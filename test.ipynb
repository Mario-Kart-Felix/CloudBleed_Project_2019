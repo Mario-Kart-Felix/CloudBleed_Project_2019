{
 "cells": [
  {
   "cell_type": "code",
   "execution_count": 75,
   "metadata": {},
   "outputs": [],
   "source": [
    "import pathlib, json\n",
    "import pprint as pp\n",
    "import random\n",
    "JSON_PATH = pathlib.Path(\"./data/validated/\")\n",
    "validated = list(JSON_PATH.glob('*.json'))"
   ]
  },
  {
   "cell_type": "code",
   "execution_count": 76,
   "metadata": {},
   "outputs": [],
   "source": [
    "DESIRED_ACTIONS = ['hacking', 'malware']"
   ]
  },
  {
   "cell_type": "code",
   "execution_count": 77,
   "metadata": {},
   "outputs": [
    {
     "name": "stdout",
     "output_type": "stream",
     "text": [
      "832 entries containing hacking or malware after 2015.\n"
     ]
    }
   ],
   "source": [
    "filtered = []\n",
    "\n",
    "#Subsampling the data\n",
    "\n",
    "FILTER_YEAR = 2015\n",
    "\n",
    "for entry in validated:\n",
    "    with entry.open('r') as f:\n",
    "        data = json.load(f)\n",
    "        #Filter by action type \n",
    "        if not ('malware' in data['action'] or 'hacking' in data['action']):\n",
    "            continue\n",
    "        \n",
    "        if data['security_incident'] != 'Confirmed':\n",
    "            continue\n",
    "            \n",
    "        if data['timeline']['incident']['year'] < FILTER_YEAR:\n",
    "            continue\n",
    "        \n",
    "        filtered.append(entry)\n",
    "        \n",
    "        \n",
    "print(\"{0} entries containing hacking or malware after {1}.\".format(len(filtered), FILTER_YEAR))\n"
   ]
  },
  {
   "cell_type": "code",
   "execution_count": 79,
   "metadata": {},
   "outputs": [
    {
     "name": "stdout",
     "output_type": "stream",
     "text": [
      "{'action': {'hacking': {'result': ['Exfiltrate'],\n",
      "                        'variety': ['Unknown'],\n",
      "                        'vector': ['Unknown']}},\n",
      " 'actor': {'external': {'country': ['Unknown'],\n",
      "                        'motive': ['Financial'],\n",
      "                        'region': ['000000'],\n",
      "                        'variety': ['Unaffiliated']}},\n",
      " 'asset': {'assets': [{'amount': 1, 'variety': 'S - Database'}],\n",
      "           'cloud': ['Unknown'],\n",
      "           'total_amount': 1},\n",
      " 'attribute': {'confidentiality': {'data': [{'amount': 3365,\n",
      "                                             'variety': 'Payment'}],\n",
      "                                   'data_disclosure': 'Yes',\n",
      "                                   'data_total': 3365,\n",
      "                                   'data_victim': ['Patient'],\n",
      "                                   'state': ['Stored unencrypted']}},\n",
      " 'confidence': 'High',\n",
      " 'discovery_method': {'unknown': True},\n",
      " 'incident_id': '35c30d00-e463-11e7-977c-0b3846f56840',\n",
      " 'plus': {'analysis_status': 'Validated',\n",
      "          'analyst': 'swidup',\n",
      "          'created': '2017-12-19T12:20:00.819Z',\n",
      "          'dbir_year': 2018,\n",
      "          'github': '9444',\n",
      "          'master_id': '83f59174-2128-492f-bbe8-0b6c01d96d83',\n",
      "          'modified': '2017-12-19T12:20:00.819Z',\n",
      "          'sub_source': 'phidbr',\n",
      "          'timeline': {'notification': {'day': 3, 'month': 4, 'year': 2017}}},\n",
      " 'reference': 'http://www.hipaajournal.com/3365-patients-billing-records-potentially-stolen-by-hacker-8760/',\n",
      " 'schema_version': '1.3.4',\n",
      " 'security_incident': 'Confirmed',\n",
      " 'source_id': 'vcdb',\n",
      " 'summary': 'Atlanta-based Skin Cancer Specialists, P.C., has announced a data '\n",
      "            'security incident has been discovered that has resulted in the '\n",
      "            'exposure of the billing records of 3,365 patients. An '\n",
      "            'unauthorized individual was discovered to have gained access to '\n",
      "            'the healthcare provider’s system on October 15, 2016, with the '\n",
      "            'intrusion detected on February 2, 2017. The system contained the '\n",
      "            'billing records of 3,365 patients. Those records included '\n",
      "            'patients’ names, addresses, telephone numbers, dates of birth, '\n",
      "            'medical record numbers, physician information and health '\n",
      "            'insurance details. Financial information and Social Security '\n",
      "            'numbers were not viewed or obtained by the attacker.',\n",
      " 'targeted': 'Unknown',\n",
      " 'timeline': {'discovery': {'unit': 'Months', 'value': 3},\n",
      "              'incident': {'day': 15, 'month': 10, 'year': 2016}},\n",
      " 'victim': {'country': ['US'],\n",
      "            'employee_count': 'Unknown',\n",
      "            'industry': '621111',\n",
      "            'region': ['019021'],\n",
      "            'state': 'GA',\n",
      "            'victim_id': 'Skin Cancer Specialists, P.C.'}}\n"
     ]
    }
   ],
   "source": [
    "ex = random.choice(filtered)\n",
    "with ex.open('r') as f:\n",
    "    pp.pprint(json.load(f))"
   ]
  },
  {
   "cell_type": "code",
   "execution_count": null,
   "metadata": {},
   "outputs": [],
   "source": []
  }
 ],
 "metadata": {
  "kernelspec": {
   "display_name": "Python 3",
   "language": "python",
   "name": "python3"
  },
  "language_info": {
   "codemirror_mode": {
    "name": "ipython",
    "version": 3
   },
   "file_extension": ".py",
   "mimetype": "text/x-python",
   "name": "python",
   "nbconvert_exporter": "python",
   "pygments_lexer": "ipython3",
   "version": "3.7.4"
  }
 },
 "nbformat": 4,
 "nbformat_minor": 4
}
