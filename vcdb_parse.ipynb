{
 "cells": [
  {
   "cell_type": "code",
   "execution_count": 1,
   "metadata": {},
   "outputs": [],
   "source": [
    "import pandas as pd\n",
    "import numpy as np\n",
    "import verispy, os\n",
    "from verispy import VERIS"
   ]
  },
  {
   "cell_type": "markdown",
   "metadata": {},
   "source": [
    "[Source for VERISPY + Useful README](https://github.com/RiskLens/verispy)"
   ]
  },
  {
   "cell_type": "code",
   "execution_count": 2,
   "metadata": {},
   "outputs": [
    {
     "name": "stderr",
     "output_type": "stream",
     "text": [
      "\r",
      "  0%|          | 0/8363 [00:00<?, ?it/s]"
     ]
    },
    {
     "name": "stdout",
     "output_type": "stream",
     "text": [
      "Found 8363 json files.\n",
      "Loading schema\n",
      "Loading JSON files to DataFrame.\n"
     ]
    },
    {
     "name": "stderr",
     "output_type": "stream",
     "text": [
      "100%|██████████| 8363/8363 [00:03<00:00, 2453.10it/s]\n",
      "  8%|▊         | 13/173 [00:00<00:03, 49.71it/s]"
     ]
    },
    {
     "name": "stdout",
     "output_type": "stream",
     "text": [
      "Finished loading JSON files to dataframe.\n",
      "Building DataFrame with enumerations.\n",
      "Building enumeration columns.\n"
     ]
    },
    {
     "name": "stderr",
     "output_type": "stream",
     "text": [
      "100%|██████████| 173/173 [00:12<00:00, 14.26it/s]\n"
     ]
    },
    {
     "name": "stdout",
     "output_type": "stream",
     "text": [
      "Done building DataFrame with enumerations.\n",
      "Post-Processing DataFrame (A4 Names, Victim Industries, Patterns)\n",
      "Finished building VERIS DataFrame\n",
      "(8363, 2476)\n"
     ]
    }
   ],
   "source": [
    "\n",
    "\n",
    "DATA_DIR =\"./data/validated\"\n",
    "v = VERIS(json_dir=DATA_DIR,schema_url='https://raw.githubusercontent.com/vz-risk/VCDB/master/vcdb-merged.json' ,verbose=True)\n",
    "\n",
    "vdf = v.json_to_df(keep_raw=True)\n",
    "# vdf['incident_id']\n",
    "print(vdf.shape)\n"
   ]
  },
  {
   "cell_type": "markdown",
   "metadata": {},
   "source": [
    "##### v is a VERIS object. vdf contains the actual data. "
   ]
  },
  {
   "cell_type": "code",
   "execution_count": 3,
   "metadata": {},
   "outputs": [
    {
     "data": {
      "text/plain": [
       "8358"
      ]
     },
     "execution_count": 3,
     "metadata": {},
     "output_type": "execute_result"
    }
   ],
   "source": [
    "len(set(vdf['incident_id']))\n",
    "# len(set(vdf['plus.master_id']))"
   ]
  },
  {
   "cell_type": "markdown",
   "metadata": {},
   "source": [
    "[Good StackOverflow Answer on working with Dataframes vvv](https://stackoverflow.com/questions/17071871/how-to-select-rows-from-a-dataframe-based-on-column-values)"
   ]
  },
  {
   "cell_type": "code",
   "execution_count": 4,
   "metadata": {},
   "outputs": [
    {
     "name": "stdout",
     "output_type": "stream",
     "text": [
      "          enum    x     n     freq\n",
      "0          1.0  882  4711  0.18722\n",
      "1          2.0   98  4711  0.02080\n",
      "2       1000.0   57  4711  0.01210\n",
      "3          3.0   50  4711  0.01061\n",
      "4       2000.0   41  4711  0.00870\n",
      "...        ...  ...   ...      ...\n",
      "1734   26044.0    1  4711  0.00021\n",
      "1735   67000.0    1  4711  0.00021\n",
      "1736    1464.0    1  4711  0.00021\n",
      "1737    1456.0    1  4711  0.00021\n",
      "1738  385000.0    1  4711  0.00021\n",
      "\n",
      "[1739 rows x 4 columns]\n",
      "(4711, 2476)\n"
     ]
    },
    {
     "data": {
      "image/png": "[encoded data removed]",
      "text/plain": [
       "<Figure size 432x288 with 1 Axes>"
      ]
     },
     "metadata": {
      "needs_background": "light"
     },
     "output_type": "display_data"
    },
    {
     "data": {
      "text/plain": [
       "(array([980., 109., 138., 167., 214., 200., 320., 602., 516., 353., 261.,\n",
       "        173., 129., 104., 102., 105.,  75.,  53.,  48.,  39.,  13.,   6.,\n",
       "          3.,   0.,   1.]),\n",
       " array([ 0.        ,  0.9283269 ,  1.8566538 ,  2.7849807 ,  3.7133076 ,\n",
       "         4.6416345 ,  5.5699614 ,  6.4982883 ,  7.4266152 ,  8.3549421 ,\n",
       "         9.28326899, 10.21159589, 11.13992279, 12.06824969, 12.99657659,\n",
       "        13.92490349, 14.85323039, 15.78155729, 16.70988419, 17.63821109,\n",
       "        18.56653799, 19.49486489, 20.42319179, 21.35151869, 22.27984559,\n",
       "        23.20817249]),\n",
       " <a list of 25 Patch objects>)"
      ]
     },
     "execution_count": 4,
     "metadata": {},
     "output_type": "execute_result"
    },
    {
     "data": {
      "image/png": "[encoded data removed]",
      "text/plain": [
       "<Figure size 432x288 with 1 Axes>"
      ]
     },
     "metadata": {
      "needs_background": "light"
     },
     "output_type": "display_data"
    }
   ],
   "source": [
    "import matplotlib.pyplot as plt\n",
    "\n",
    "vdf.rename(columns={'attribute.confidentiality.data_total': 'records_lost'}, inplace=True)\n",
    "vdf\n",
    "vdf_loss = vdf.dropna(subset=[\"records_lost\"])\n",
    "vdf_loss['records_lost']\n",
    "print(v.enum_summary(vdf_loss, 'records_lost'))\n",
    "# vdf_loss[]\n",
    "plt.boxplot(np.log(vdf_loss[\"records_lost\"]))\n",
    "print(vdf_loss.shape)\n",
    "plt.show()\n",
    "plt.minorticks_on()\n",
    "plt.hist(np.log(vdf_loss[\"records_lost\"]), bins = 25, align='mid', width=.5)\n",
    "    "
   ]
  },
  {
   "cell_type": "markdown",
   "metadata": {},
   "source": [
    "Total Records Breached, Log Normalized"
   ]
  },
  {
   "cell_type": "code",
   "execution_count": 5,
   "metadata": {},
   "outputs": [
    {
     "name": "stdout",
     "output_type": "stream",
     "text": [
      "Employee Counts\n",
      "               enum     x       n     freq\n",
      "0       Over 100000   918  3444.0  0.26655\n",
      "1     1001 to 10000   695  3444.0  0.20180\n",
      "2       101 to 1000   513  3444.0  0.14895\n",
      "3         11 to 100   359  3444.0  0.10424\n",
      "4           1 to 10   267  3444.0  0.07753\n",
      "5    10001 to 25000   216  3444.0  0.06272\n",
      "6             Small   185  3444.0  0.05372\n",
      "7             Large   139  3444.0  0.04036\n",
      "8    25001 to 50000    99  3444.0  0.02875\n",
      "9   50001 to 100000    53  3444.0  0.01539\n",
      "10          Unknown  1267     NaN      NaN\n"
     ]
    },
    {
     "data": {
      "image/png": "[encoded data removed]",
      "text/plain": [
       "<Figure size 1080x288 with 1 Axes>"
      ]
     },
     "metadata": {
      "needs_background": "light"
     },
     "output_type": "display_data"
    }
   ],
   "source": [
    "\n",
    "plt.figure(figsize=(15,4))\n",
    "plt.hist(v.raw_df['victim.employee_count'], align='mid', width = .5) # employee count for the entire distribution\n",
    "\n",
    "print(\"Employee Counts\")\n",
    "print(v.enum_summary(vdf_loss, 'victim.employee_count'))\n",
    "plt.show()\n",
    "# vdf_loss.assign(employee_count=vdf_loss['victim.employee_count.1 to 10'])"
   ]
  },
  {
   "cell_type": "code",
   "execution_count": 6,
   "metadata": {},
   "outputs": [
    {
     "name": "stdout",
     "output_type": "stream",
     "text": [
      "(8363, 173)\n",
      "(8363, 2476)\n",
      "(4711, 2476)\n"
     ]
    },
    {
     "data": {
      "text/plain": [
       "(array([358., 453., 513.,   0., 722., 255.,   0., 137.,  88., 918.]),\n",
       " array([1. , 1.7, 2.4, 3.1, 3.8, 4.5, 5.2, 5.9, 6.6, 7.3, 8. ]),\n",
       " <a list of 10 Patch objects>)"
      ]
     },
     "execution_count": 6,
     "metadata": {},
     "output_type": "execute_result"
    },
    {
     "data": {
      "image/png": "[encoded data removed]",
      "text/plain": [
       "<Figure size 432x288 with 1 Axes>"
      ]
     },
     "metadata": {
      "needs_background": "light"
     },
     "output_type": "display_data"
    }
   ],
   "source": [
    "print(v.raw_df.shape)\n",
    "print(vdf.shape)\n",
    "print(vdf_loss.shape)\n",
    "vdf_final = vdf_loss.join(v.raw_df['victim.employee_count']) #Takes from original raw dataframe\n",
    "vdf_final =  vdf_final[vdf_final['victim.employee_count'] != 'Unknown' ] #Remove unknown employee counts \n",
    "\n",
    "emp_counts = v.enumerations['victim.employee_count']\n",
    "emp_counts\n",
    "\n",
    "emp_count_map = {'1 to 10' : 1, '11 to 100': 2, '101 to 1000': 3, '1001 to 10000': 4, '10001 to 25000': 5, '25001 to 50000': 6, '50001 to 100000': 7, 'Over 100000': 8}\n",
    "\n",
    "def order_emp_count(row):\n",
    "    b = row['victim.employee_count']\n",
    "    if b == 'Small':\n",
    "        return np.random.randint(1,3)\n",
    "    if b == 'Large':\n",
    "        return np.random.randint(4,8)\n",
    "    return emp_count_map[b]\n",
    "\n",
    "vdf_final['emp_ord'] = vdf_final.apply(order_emp_count, axis=1)\n",
    "vdf_final\n",
    "plt.hist(vdf_final['emp_ord'])"
   ]
  },
  {
   "cell_type": "code",
   "execution_count": 7,
   "metadata": {},
   "outputs": [],
   "source": [
    "def assign_bugs(row):\n",
    "    return row['action.Malware'] | row['action.Hacking']\n",
    "        \n",
    "vdf_final['action.Bugs'] = vdf_final.apply(assign_bugs, axis=1)\n",
    "\n"
   ]
  },
  {
   "cell_type": "code",
   "execution_count": 8,
   "metadata": {},
   "outputs": [
    {
     "data": {
      "text/html": [
       "<div>\n",
       "<style scoped>\n",
       "    .dataframe tbody tr th:only-of-type {\n",
       "        vertical-align: middle;\n",
       "    }\n",
       "\n",
       "    .dataframe tbody tr th {\n",
       "        vertical-align: top;\n",
       "    }\n",
       "\n",
       "    .dataframe thead th {\n",
       "        text-align: right;\n",
       "    }\n",
       "</style>\n",
       "<table border=\"1\" class=\"dataframe\">\n",
       "  <thead>\n",
       "    <tr style=\"text-align: right;\">\n",
       "      <th></th>\n",
       "      <th>action.Environmental</th>\n",
       "      <th>action.Error</th>\n",
       "      <th>action.Hacking</th>\n",
       "      <th>action.Malware</th>\n",
       "      <th>action.Misuse</th>\n",
       "      <th>action.Physical</th>\n",
       "      <th>action.Social</th>\n",
       "      <th>action.Unknown</th>\n",
       "      <th>action.environmental.notes</th>\n",
       "      <th>action.environmental.variety.Deterioration</th>\n",
       "      <th>...</th>\n",
       "      <th>victim.revenue.iso_currency_code.ZMK</th>\n",
       "      <th>victim.revenue.iso_currency_code.ZWD</th>\n",
       "      <th>victim.secondary.amount</th>\n",
       "      <th>victim.secondary.notes</th>\n",
       "      <th>victim.secondary.victim_id</th>\n",
       "      <th>victim.state</th>\n",
       "      <th>victim.victim_id</th>\n",
       "      <th>victim.employee_count</th>\n",
       "      <th>emp_ord</th>\n",
       "      <th>action.Bugs</th>\n",
       "    </tr>\n",
       "  </thead>\n",
       "  <tbody>\n",
       "    <tr>\n",
       "      <td>1</td>\n",
       "      <td>False</td>\n",
       "      <td>True</td>\n",
       "      <td>False</td>\n",
       "      <td>False</td>\n",
       "      <td>False</td>\n",
       "      <td>False</td>\n",
       "      <td>False</td>\n",
       "      <td>False</td>\n",
       "      <td>NaN</td>\n",
       "      <td>False</td>\n",
       "      <td>...</td>\n",
       "      <td>False</td>\n",
       "      <td>False</td>\n",
       "      <td>NaN</td>\n",
       "      <td>NaN</td>\n",
       "      <td>NaN</td>\n",
       "      <td>NaN</td>\n",
       "      <td>British Columbia Ministry of Finance</td>\n",
       "      <td>Large</td>\n",
       "      <td>5</td>\n",
       "      <td>False</td>\n",
       "    </tr>\n",
       "    <tr>\n",
       "      <td>4</td>\n",
       "      <td>False</td>\n",
       "      <td>False</td>\n",
       "      <td>True</td>\n",
       "      <td>False</td>\n",
       "      <td>False</td>\n",
       "      <td>False</td>\n",
       "      <td>False</td>\n",
       "      <td>False</td>\n",
       "      <td>NaN</td>\n",
       "      <td>False</td>\n",
       "      <td>...</td>\n",
       "      <td>False</td>\n",
       "      <td>False</td>\n",
       "      <td>NaN</td>\n",
       "      <td>NaN</td>\n",
       "      <td>NaN</td>\n",
       "      <td>NaN</td>\n",
       "      <td>Loyalist Certification Services Exams</td>\n",
       "      <td>1001 to 10000</td>\n",
       "      <td>4</td>\n",
       "      <td>True</td>\n",
       "    </tr>\n",
       "    <tr>\n",
       "      <td>7</td>\n",
       "      <td>False</td>\n",
       "      <td>True</td>\n",
       "      <td>False</td>\n",
       "      <td>False</td>\n",
       "      <td>False</td>\n",
       "      <td>False</td>\n",
       "      <td>False</td>\n",
       "      <td>False</td>\n",
       "      <td>NaN</td>\n",
       "      <td>False</td>\n",
       "      <td>...</td>\n",
       "      <td>False</td>\n",
       "      <td>False</td>\n",
       "      <td>NaN</td>\n",
       "      <td>NaN</td>\n",
       "      <td>NaN</td>\n",
       "      <td>WV</td>\n",
       "      <td>United States Department of Veterans Affairs</td>\n",
       "      <td>Over 100000</td>\n",
       "      <td>8</td>\n",
       "      <td>False</td>\n",
       "    </tr>\n",
       "    <tr>\n",
       "      <td>9</td>\n",
       "      <td>False</td>\n",
       "      <td>True</td>\n",
       "      <td>False</td>\n",
       "      <td>False</td>\n",
       "      <td>False</td>\n",
       "      <td>False</td>\n",
       "      <td>False</td>\n",
       "      <td>False</td>\n",
       "      <td>NaN</td>\n",
       "      <td>False</td>\n",
       "      <td>...</td>\n",
       "      <td>False</td>\n",
       "      <td>False</td>\n",
       "      <td>NaN</td>\n",
       "      <td>NaN</td>\n",
       "      <td>NaN</td>\n",
       "      <td>MO</td>\n",
       "      <td>United States Department of Veterans Affairs</td>\n",
       "      <td>Over 100000</td>\n",
       "      <td>8</td>\n",
       "      <td>False</td>\n",
       "    </tr>\n",
       "    <tr>\n",
       "      <td>11</td>\n",
       "      <td>False</td>\n",
       "      <td>False</td>\n",
       "      <td>False</td>\n",
       "      <td>False</td>\n",
       "      <td>False</td>\n",
       "      <td>True</td>\n",
       "      <td>False</td>\n",
       "      <td>False</td>\n",
       "      <td>NaN</td>\n",
       "      <td>False</td>\n",
       "      <td>...</td>\n",
       "      <td>False</td>\n",
       "      <td>False</td>\n",
       "      <td>NaN</td>\n",
       "      <td>NaN</td>\n",
       "      <td>NaN</td>\n",
       "      <td>KS</td>\n",
       "      <td>Occupational Health Partners</td>\n",
       "      <td>11 to 100</td>\n",
       "      <td>2</td>\n",
       "      <td>False</td>\n",
       "    </tr>\n",
       "    <tr>\n",
       "      <td>...</td>\n",
       "      <td>...</td>\n",
       "      <td>...</td>\n",
       "      <td>...</td>\n",
       "      <td>...</td>\n",
       "      <td>...</td>\n",
       "      <td>...</td>\n",
       "      <td>...</td>\n",
       "      <td>...</td>\n",
       "      <td>...</td>\n",
       "      <td>...</td>\n",
       "      <td>...</td>\n",
       "      <td>...</td>\n",
       "      <td>...</td>\n",
       "      <td>...</td>\n",
       "      <td>...</td>\n",
       "      <td>...</td>\n",
       "      <td>...</td>\n",
       "      <td>...</td>\n",
       "      <td>...</td>\n",
       "      <td>...</td>\n",
       "      <td>...</td>\n",
       "    </tr>\n",
       "    <tr>\n",
       "      <td>8351</td>\n",
       "      <td>False</td>\n",
       "      <td>False</td>\n",
       "      <td>False</td>\n",
       "      <td>False</td>\n",
       "      <td>False</td>\n",
       "      <td>True</td>\n",
       "      <td>False</td>\n",
       "      <td>False</td>\n",
       "      <td>NaN</td>\n",
       "      <td>False</td>\n",
       "      <td>...</td>\n",
       "      <td>False</td>\n",
       "      <td>False</td>\n",
       "      <td>NaN</td>\n",
       "      <td>NaN</td>\n",
       "      <td>NaN</td>\n",
       "      <td>TX</td>\n",
       "      <td>Pediatric Sports and Spine Associates</td>\n",
       "      <td>11 to 100</td>\n",
       "      <td>2</td>\n",
       "      <td>False</td>\n",
       "    </tr>\n",
       "    <tr>\n",
       "      <td>8352</td>\n",
       "      <td>False</td>\n",
       "      <td>True</td>\n",
       "      <td>False</td>\n",
       "      <td>False</td>\n",
       "      <td>False</td>\n",
       "      <td>False</td>\n",
       "      <td>False</td>\n",
       "      <td>False</td>\n",
       "      <td>NaN</td>\n",
       "      <td>False</td>\n",
       "      <td>...</td>\n",
       "      <td>False</td>\n",
       "      <td>False</td>\n",
       "      <td>NaN</td>\n",
       "      <td>NaN</td>\n",
       "      <td>NaN</td>\n",
       "      <td>CA</td>\n",
       "      <td>google</td>\n",
       "      <td>50001 to 100000</td>\n",
       "      <td>7</td>\n",
       "      <td>False</td>\n",
       "    </tr>\n",
       "    <tr>\n",
       "      <td>8353</td>\n",
       "      <td>False</td>\n",
       "      <td>False</td>\n",
       "      <td>False</td>\n",
       "      <td>False</td>\n",
       "      <td>True</td>\n",
       "      <td>False</td>\n",
       "      <td>False</td>\n",
       "      <td>False</td>\n",
       "      <td>NaN</td>\n",
       "      <td>False</td>\n",
       "      <td>...</td>\n",
       "      <td>False</td>\n",
       "      <td>False</td>\n",
       "      <td>NaN</td>\n",
       "      <td>NaN</td>\n",
       "      <td>NaN</td>\n",
       "      <td>OH</td>\n",
       "      <td>University Hospitals Elyria Medical Center</td>\n",
       "      <td>1001 to 10000</td>\n",
       "      <td>4</td>\n",
       "      <td>False</td>\n",
       "    </tr>\n",
       "    <tr>\n",
       "      <td>8354</td>\n",
       "      <td>False</td>\n",
       "      <td>False</td>\n",
       "      <td>False</td>\n",
       "      <td>False</td>\n",
       "      <td>True</td>\n",
       "      <td>False</td>\n",
       "      <td>False</td>\n",
       "      <td>False</td>\n",
       "      <td>NaN</td>\n",
       "      <td>False</td>\n",
       "      <td>...</td>\n",
       "      <td>False</td>\n",
       "      <td>False</td>\n",
       "      <td>NaN</td>\n",
       "      <td>NaN</td>\n",
       "      <td>NaN</td>\n",
       "      <td>NaN</td>\n",
       "      <td>Heartland Regional Health Authority</td>\n",
       "      <td>1001 to 10000</td>\n",
       "      <td>4</td>\n",
       "      <td>False</td>\n",
       "    </tr>\n",
       "    <tr>\n",
       "      <td>8356</td>\n",
       "      <td>False</td>\n",
       "      <td>False</td>\n",
       "      <td>False</td>\n",
       "      <td>False</td>\n",
       "      <td>False</td>\n",
       "      <td>True</td>\n",
       "      <td>False</td>\n",
       "      <td>False</td>\n",
       "      <td>NaN</td>\n",
       "      <td>False</td>\n",
       "      <td>...</td>\n",
       "      <td>False</td>\n",
       "      <td>False</td>\n",
       "      <td>NaN</td>\n",
       "      <td>NaN</td>\n",
       "      <td>NaN</td>\n",
       "      <td>CA</td>\n",
       "      <td>John E Gonzalez</td>\n",
       "      <td>Small</td>\n",
       "      <td>1</td>\n",
       "      <td>False</td>\n",
       "    </tr>\n",
       "  </tbody>\n",
       "</table>\n",
       "<p>3444 rows × 2479 columns</p>\n",
       "</div>"
      ],
      "text/plain": [
       "      action.Environmental  action.Error  action.Hacking  action.Malware  \\\n",
       "1                    False          True           False           False   \n",
       "4                    False         False            True           False   \n",
       "7                    False          True           False           False   \n",
       "9                    False          True           False           False   \n",
       "11                   False         False           False           False   \n",
       "...                    ...           ...             ...             ...   \n",
       "8351                 False         False           False           False   \n",
       "8352                 False          True           False           False   \n",
       "8353                 False         False           False           False   \n",
       "8354                 False         False           False           False   \n",
       "8356                 False         False           False           False   \n",
       "\n",
       "      action.Misuse  action.Physical  action.Social  action.Unknown  \\\n",
       "1             False            False          False           False   \n",
       "4             False            False          False           False   \n",
       "7             False            False          False           False   \n",
       "9             False            False          False           False   \n",
       "11            False             True          False           False   \n",
       "...             ...              ...            ...             ...   \n",
       "8351          False             True          False           False   \n",
       "8352          False            False          False           False   \n",
       "8353           True            False          False           False   \n",
       "8354           True            False          False           False   \n",
       "8356          False             True          False           False   \n",
       "\n",
       "     action.environmental.notes  action.environmental.variety.Deterioration  \\\n",
       "1                           NaN                                       False   \n",
       "4                           NaN                                       False   \n",
       "7                           NaN                                       False   \n",
       "9                           NaN                                       False   \n",
       "11                          NaN                                       False   \n",
       "...                         ...                                         ...   \n",
       "8351                        NaN                                       False   \n",
       "8352                        NaN                                       False   \n",
       "8353                        NaN                                       False   \n",
       "8354                        NaN                                       False   \n",
       "8356                        NaN                                       False   \n",
       "\n",
       "      ...  victim.revenue.iso_currency_code.ZMK  \\\n",
       "1     ...                                 False   \n",
       "4     ...                                 False   \n",
       "7     ...                                 False   \n",
       "9     ...                                 False   \n",
       "11    ...                                 False   \n",
       "...   ...                                   ...   \n",
       "8351  ...                                 False   \n",
       "8352  ...                                 False   \n",
       "8353  ...                                 False   \n",
       "8354  ...                                 False   \n",
       "8356  ...                                 False   \n",
       "\n",
       "      victim.revenue.iso_currency_code.ZWD  victim.secondary.amount  \\\n",
       "1                                    False                      NaN   \n",
       "4                                    False                      NaN   \n",
       "7                                    False                      NaN   \n",
       "9                                    False                      NaN   \n",
       "11                                   False                      NaN   \n",
       "...                                    ...                      ...   \n",
       "8351                                 False                      NaN   \n",
       "8352                                 False                      NaN   \n",
       "8353                                 False                      NaN   \n",
       "8354                                 False                      NaN   \n",
       "8356                                 False                      NaN   \n",
       "\n",
       "      victim.secondary.notes  victim.secondary.victim_id  victim.state  \\\n",
       "1                        NaN                         NaN           NaN   \n",
       "4                        NaN                         NaN           NaN   \n",
       "7                        NaN                         NaN            WV   \n",
       "9                        NaN                         NaN            MO   \n",
       "11                       NaN                         NaN            KS   \n",
       "...                      ...                         ...           ...   \n",
       "8351                     NaN                         NaN            TX   \n",
       "8352                     NaN                         NaN            CA   \n",
       "8353                     NaN                         NaN            OH   \n",
       "8354                     NaN                         NaN           NaN   \n",
       "8356                     NaN                         NaN            CA   \n",
       "\n",
       "                                  victim.victim_id  victim.employee_count  \\\n",
       "1             British Columbia Ministry of Finance                  Large   \n",
       "4            Loyalist Certification Services Exams          1001 to 10000   \n",
       "7     United States Department of Veterans Affairs            Over 100000   \n",
       "9     United States Department of Veterans Affairs            Over 100000   \n",
       "11                    Occupational Health Partners              11 to 100   \n",
       "...                                            ...                    ...   \n",
       "8351         Pediatric Sports and Spine Associates              11 to 100   \n",
       "8352                                        google        50001 to 100000   \n",
       "8353    University Hospitals Elyria Medical Center          1001 to 10000   \n",
       "8354           Heartland Regional Health Authority          1001 to 10000   \n",
       "8356                               John E Gonzalez                  Small   \n",
       "\n",
       "      emp_ord  action.Bugs  \n",
       "1           5        False  \n",
       "4           4         True  \n",
       "7           8        False  \n",
       "9           8        False  \n",
       "11          2        False  \n",
       "...       ...          ...  \n",
       "8351        2        False  \n",
       "8352        7        False  \n",
       "8353        4        False  \n",
       "8354        4        False  \n",
       "8356        1        False  \n",
       "\n",
       "[3444 rows x 2479 columns]"
      ]
     },
     "execution_count": 8,
     "metadata": {},
     "output_type": "execute_result"
    }
   ],
   "source": [
    "vdf_final"
   ]
  },
  {
   "cell_type": "code",
   "execution_count": 9,
   "metadata": {},
   "outputs": [],
   "source": [
    "# df_final['action.Bugs'] = bugs\n",
    "# df_final\n"
   ]
  },
  {
   "cell_type": "code",
   "execution_count": 10,
   "metadata": {},
   "outputs": [],
   "source": [
    "#Creates a smaller table for ease of running\n",
    "# N = 1000\n",
    "# sample = np.random.choice(8323, N)\n",
    "# df_short = df_final.iloc[sample,:].reset_index().iloc[:,1:]\n",
    "\n",
    "\n",
    "# Maybe we should id the column here in the future so we can refer to the original table values"
   ]
  },
  {
   "cell_type": "code",
   "execution_count": 11,
   "metadata": {},
   "outputs": [],
   "source": [
    "# impactful_df = vdf[vdf['impact.overall_rating.Insignificant'] | vdf['impact.overall_rating.Distracting'] | vdf['impact.overall_rating.Painful'] | vdf['impact.overall_rating.Catastrophic'] | vdf['impact.overall_rating.Damaging']].reindex()\n",
    "# reset_impactful_df = impactful_df.reset_index(drop=True) #Resets the indicies\n",
    "# impactful_df_bugs = reset_impactful_df[reset_impactful_df['action.Hacking'] | reset_impactful_df['action.Malware']]\n",
    "# impactful_df_bugs\n"
   ]
  },
  {
   "cell_type": "code",
   "execution_count": 12,
   "metadata": {},
   "outputs": [],
   "source": [
    "# indices = list(impactful_df_bugs.index)\n",
    "# bugs = [False] * impactful_df.shape[0]\n",
    "# for i in indices:\n",
    "#     bugs[i] = True\n",
    "# overall_rating = reset_impactful_df.loc[:, reset_impactful_df.columns.str.startswith('impact.overall_rating')]\n",
    "# df_final = reset_impactful_df.iloc[:, :7]\n",
    "# df_final['action.Bugs'] = bugs\n",
    "# result = pd.concat([df_final,overall_rating], axis=1, sort=False)\n",
    "# result = result.iloc[:,:13]\n",
    "# result "
   ]
  },
  {
   "cell_type": "code",
   "execution_count": null,
   "metadata": {},
   "outputs": [],
   "source": []
  },
  {
   "cell_type": "code",
   "execution_count": 13,
   "metadata": {},
   "outputs": [],
   "source": [
    "#result['outcome'] \n",
    "\n",
    "#imp_name = \"impact.overall_rating\"\n",
    "#result.apply(outcome: lambda outcome + 1, axis = 1)\n",
    "#idxs = range(len(result))\n",
    "#for i in idxs:\n",
    "#    for rank in ranking.keys():\n",
    "#        if result.[i][rank]:\n",
    "#            print(rank) = \n",
    "#     for \n",
    "#             print result[rank]\n",
    "# ranking"
   ]
  },
  {
   "cell_type": "code",
   "execution_count": 14,
   "metadata": {},
   "outputs": [],
   "source": [
    "# impact = [0] * result.shape[0]\n",
    "# for i in range(result.shape[0]):\n",
    "#     if(result.loc[i, 'impact.overall_rating.Insignificant']):\n",
    "#         impact[i] = 1\n",
    "#     elif(result.loc[i, 'impact.overall_rating.Distracting']):\n",
    "#         impact[i] = 2\n",
    "#     elif(result.loc[i, 'impact.overall_rating.Painful']):\n",
    "#         impact[i] = 3\n",
    "#     elif(result.loc[i, 'impact.overall_rating.Damaging']):\n",
    "#         impact[i] = 4\n",
    "#     elif(result.loc[i, 'impact.overall_rating.Catastrophic']):\n",
    "#         impact[i] = 5\n",
    "# result['action.Impact'] = impact #Impact rating column is named 'action.Impact'\n",
    "# result = result.loc[:, result.columns.str.startswith('action')] #CURRENT FINAL DATAFRAME\n",
    "# result\n",
    "# import matplotlib.pyplot as plt\n",
    "# plt.hist(result[\"action.Impact\"])"
   ]
  },
  {
   "cell_type": "code",
   "execution_count": 15,
   "metadata": {},
   "outputs": [],
   "source": [
    "import numpy as np\n",
    "import pandas as pd\n",
    "import logging\n",
    "import dowhy\n",
    "from dowhy.do_why import CausalModel\n",
    "import graphviz\n",
    "import dowhy.datasets, dowhy.plotter "
   ]
  },
  {
   "cell_type": "code",
   "execution_count": 16,
   "metadata": {},
   "outputs": [
    {
     "name": "stdout",
     "output_type": "stream",
     "text": [
      "3.7.4 (default, Aug 13 2019, 15:17:50) \n",
      "[Clang 4.0.1 (tags/RELEASE_401/final)]\n"
     ]
    }
   ],
   "source": [
    "import sys\n",
    "print(sys.version)"
   ]
  },
  {
   "cell_type": "code",
   "execution_count": 54,
   "metadata": {},
   "outputs": [
    {
     "name": "stderr",
     "output_type": "stream",
     "text": [
      "INFO:dowhy.do_why:Model to find the causal effect of treatment ['action.Bugs'] on outcome ['records_lost']\n"
     ]
    },
    {
     "name": "stdout",
     "output_type": "stream",
     "text": [
      "1             23.0\n",
      "4            202.0\n",
      "7              1.0\n",
      "9              1.0\n",
      "11          1105.0\n",
      "           ...    \n",
      "8351         955.0\n",
      "8352    52000000.0\n",
      "8353         297.0\n",
      "8354         833.0\n",
      "8356        1025.0\n",
      "Name: records_lost, Length: 3444, dtype: float64\n"
     ]
    }
   ],
   "source": [
    "#Create causal model with instrumental\n",
    "# print(vdf)\n",
    "#data\n",
    "print(vdf_final['records_lost'])\n",
    "\n",
    "model = CausalModel(\n",
    "    data = vdf_final,\n",
    "    treatment = 'action.Bugs',\n",
    "    outcome = 'records_lost',\n",
    "    graph = './NetworkXTest/test.gml',\n",
    "    common_causes = ['emp_ord','action.Environmental', 'action.Error', 'action.Misuse', 'action.Physical', 'action.Social'],\n",
    "    instruments = ['action.Hacking', 'action.Malware'],\n",
    "    logging_level = logging.INFO\n",
    ")\n",
    "#vdf_final['action.Bugs']\n",
    "model.view_model(layout=\"dot\")"
   ]
  },
  {
   "cell_type": "code",
   "execution_count": 55,
   "metadata": {},
   "outputs": [],
   "source": [
    "model.view_model()"
   ]
  },
  {
   "cell_type": "code",
   "execution_count": 56,
   "metadata": {},
   "outputs": [
    {
     "data": {
      "image/png": "[encoded data removed]",
      "text/plain": [
       "<IPython.core.display.Image object>"
      ]
     },
     "metadata": {},
     "output_type": "display_data"
    }
   ],
   "source": [
    "from IPython.display import Image, display\n",
    "display(Image(filename=\"causal_model.png\"))"
   ]
  },
  {
   "cell_type": "markdown",
   "metadata": {},
   "source": [
    "We get a causal graph. Now identification and estimation is done. "
   ]
  },
  {
   "cell_type": "code",
   "execution_count": 57,
   "metadata": {},
   "outputs": [
    {
     "name": "stderr",
     "output_type": "stream",
     "text": [
      "INFO:dowhy.causal_identifier:Common causes of treatment and outcome:['U', 'emp_ord', 'action.Malware', 'action.Hacking']\n",
      "WARNING:dowhy.causal_identifier:There are unobserved common causes. Causal effect cannot be identified.\n"
     ]
    },
    {
     "name": "stdout",
     "output_type": "stream",
     "text": [
      "WARN: Do you want to continue by ignoring these unobserved confounders? [y/n] y\n"
     ]
    },
    {
     "name": "stderr",
     "output_type": "stream",
     "text": [
      "INFO:dowhy.causal_identifier:Instrumental variables for treatment and outcome:[]\n"
     ]
    },
    {
     "name": "stdout",
     "output_type": "stream",
     "text": [
      "Estimand type: ate\n",
      "### Estimand : 1\n",
      "Estimand name: backdoor\n",
      "Estimand expression:\n",
      "     d                                                                       \n",
      "────────────(Expectation(records_lost|emp_ord,action.Malware,action.Hacking))\n",
      "daction.Bugs                                                                 \n",
      "Estimand assumption 1, Unconfoundedness: If U→action.Bugs and U→records_lost then P(records_lost|action.Bugs,emp_ord,action.Malware,action.Hacking,U) = P(records_lost|action.Bugs,emp_ord,action.Malware,action.Hacking)\n",
      "### Estimand : 2\n",
      "Estimand name: iv\n",
      "No such variable found!\n",
      "\n"
     ]
    }
   ],
   "source": [
    "identified_estimand = model.identify_effect()\n",
    "print(identified_estimand)"
   ]
  },
  {
   "cell_type": "code",
   "execution_count": 21,
   "metadata": {},
   "outputs": [
    {
     "name": "stderr",
     "output_type": "stream",
     "text": [
      "INFO:dowhy.causal_estimator:INFO: Using Linear Regression Estimator\n",
      "INFO:dowhy.causal_estimator:b: records_lost~action.Bugs+emp_ord+action.Malware+action.Hacking\n"
     ]
    },
    {
     "name": "stdout",
     "output_type": "stream",
     "text": [
      "Causal Estimate is 21448096.097986963\n"
     ]
    },
    {
     "data": {
      "image/png": "[encoded data removed]",
      "text/plain": [
       "<Figure size 576x432 with 1 Axes>"
      ]
     },
     "metadata": {
      "needs_background": "light"
     },
     "output_type": "display_data"
    }
   ],
   "source": [
    "estimate = model.estimate_effect(identified_estimand,\n",
    "        method_name=\"backdoor.linear_regression\")\n",
    "print(\"Causal Estimate is \" + str(estimate.value))\n",
    "\n",
    "# Plot Slope of line between treamtent and outcome =causal effect\n",
    "dowhy.plotter.plot_causal_effect(estimate, vdf_final['action.Bugs'], vdf_final['records_lost'])\n",
    "# I think the issue is our data isn't giving us a linear plot... this is linear regression after all"
   ]
  },
  {
   "cell_type": "code",
   "execution_count": 22,
   "metadata": {},
   "outputs": [
    {
     "name": "stdout",
     "output_type": "stream",
     "text": [
      "DoWhy estimate is 21448096.097986963\n",
      "Actual true causal effect was 1\n"
     ]
    }
   ],
   "source": [
    "print(\"DoWhy estimate is \" + str(estimate.value))\n",
    "rvar = 1 if np.random.uniform() >0.5 else 0\n",
    "print (\"Actual true causal effect was {0}\".format(rvar))"
   ]
  },
  {
   "cell_type": "code",
   "execution_count": 23,
   "metadata": {},
   "outputs": [
    {
     "name": "stderr",
     "output_type": "stream",
     "text": [
      "INFO:dowhy.causal_identifier:Common causes of treatment and outcome:['U', 'emp_ord', 'action.Malware', 'action.Hacking']\n",
      "WARNING:dowhy.causal_identifier:There are unobserved common causes. Causal effect cannot be identified.\n",
      "INFO:dowhy.causal_identifier:Continuing by ignoring these unobserved confounders because proceed_when_unidentifiable flag is True.\n",
      "INFO:dowhy.causal_identifier:Instrumental variables for treatment and outcome:[]\n"
     ]
    },
    {
     "name": "stdout",
     "output_type": "stream",
     "text": [
      "Estimand type: ate\n",
      "### Estimand : 1\n",
      "Estimand name: backdoor\n",
      "Estimand expression:\n",
      "     d                                                                       \n",
      "────────────(Expectation(records_lost|emp_ord,action.Malware,action.Hacking))\n",
      "daction.Bugs                                                                 \n",
      "Estimand assumption 1, Unconfoundedness: If U→action.Bugs and U→records_lost then P(records_lost|action.Bugs,emp_ord,action.Malware,action.Hacking,U) = P(records_lost|action.Bugs,emp_ord,action.Malware,action.Hacking)\n",
      "### Estimand : 2\n",
      "Estimand name: iv\n",
      "No such variable found!\n",
      "\n"
     ]
    }
   ],
   "source": [
    "identified_estimand = model.identify_effect(proceed_when_unidentifiable=True)\n",
    "print(identified_estimand)"
   ]
  },
  {
   "cell_type": "markdown",
   "metadata": {},
   "source": [
    "## Method 1: Stratification"
   ]
  },
  {
   "cell_type": "code",
   "execution_count": 24,
   "metadata": {},
   "outputs": [
    {
     "name": "stderr",
     "output_type": "stream",
     "text": [
      "INFO:dowhy.causal_estimator:INFO: Using Propensity Score Stratification Estimator\n",
      "INFO:dowhy.causal_estimator:b: records_lost~action.Bugs+emp_ord+action.Malware+action.Hacking\n"
     ]
    },
    {
     "name": "stdout",
     "output_type": "stream",
     "text": [
      "*** Causal Estimate ***\n",
      "\n",
      "## Target estimand\n",
      "Estimand type: ate\n",
      "### Estimand : 1\n",
      "Estimand name: backdoor\n",
      "Estimand expression:\n",
      "     d                                                                       \n",
      "────────────(Expectation(records_lost|emp_ord,action.Malware,action.Hacking))\n",
      "daction.Bugs                                                                 \n",
      "Estimand assumption 1, Unconfoundedness: If U→action.Bugs and U→records_lost then P(records_lost|action.Bugs,emp_ord,action.Malware,action.Hacking,U) = P(records_lost|action.Bugs,emp_ord,action.Malware,action.Hacking)\n",
      "### Estimand : 2\n",
      "Estimand name: iv\n",
      "No such variable found!\n",
      "\n",
      "## Realized estimand\n",
      "b: records_lost~action.Bugs+emp_ord+action.Malware+action.Hacking\n",
      "## Estimate\n",
      "Value: nan\n",
      "\n",
      "Causal Estimate is nan\n"
     ]
    },
    {
     "name": "stderr",
     "output_type": "stream",
     "text": [
      "/Users/ethanpaek/opt/anaconda3/lib/python3.7/site-packages/sklearn/linear_model/logistic.py:432: FutureWarning: Default solver will be changed to 'lbfgs' in 0.22. Specify a solver to silence this warning.\n",
      "  FutureWarning)\n",
      "/Users/ethanpaek/opt/anaconda3/lib/python3.7/site-packages/dowhy/causal_estimators/propensity_score_stratification_estimator.py:79: RuntimeWarning: invalid value encountered in double_scalars\n",
      "  ate = (weighted_outcomes['effect'] * weighted_outcomes[treatment_sum_name]).sum() / total_treatment_population\n"
     ]
    }
   ],
   "source": [
    "causal_estimate = model.estimate_effect(identified_estimand,\n",
    "        method_name=\"backdoor.propensity_score_stratification\")\n",
    "print(causal_estimate)\n",
    "print(\"Causal Estimate is \" + str(causal_estimate.value))"
   ]
  },
  {
   "cell_type": "markdown",
   "metadata": {},
   "source": [
    "## Method 2: Matching"
   ]
  },
  {
   "cell_type": "code",
   "execution_count": 25,
   "metadata": {},
   "outputs": [
    {
     "name": "stderr",
     "output_type": "stream",
     "text": [
      "INFO:dowhy.causal_estimator:INFO: Using Propensity Score Matching Estimator\n",
      "INFO:dowhy.causal_estimator:b: records_lost~action.Bugs+emp_ord+action.Malware+action.Hacking\n",
      "/Users/ethanpaek/opt/anaconda3/lib/python3.7/site-packages/dowhy/causal_estimators/propensity_score_matching_estimator.py:51: FutureWarning: `item` has been deprecated and will be removed in a future version\n",
      "  control_outcome = control.iloc[indices[i]][self._outcome_name].item()\n"
     ]
    },
    {
     "name": "stdout",
     "output_type": "stream",
     "text": [
      "*** Causal Estimate ***\n",
      "\n",
      "## Target estimand\n",
      "Estimand type: ate\n",
      "### Estimand : 1\n",
      "Estimand name: backdoor\n",
      "Estimand expression:\n",
      "     d                                                                       \n",
      "────────────(Expectation(records_lost|emp_ord,action.Malware,action.Hacking))\n",
      "daction.Bugs                                                                 \n",
      "Estimand assumption 1, Unconfoundedness: If U→action.Bugs and U→records_lost then P(records_lost|action.Bugs,emp_ord,action.Malware,action.Hacking,U) = P(records_lost|action.Bugs,emp_ord,action.Malware,action.Hacking)\n",
      "### Estimand : 2\n",
      "Estimand name: iv\n",
      "No such variable found!\n",
      "\n",
      "## Realized estimand\n",
      "b: records_lost~action.Bugs+emp_ord+action.Malware+action.Hacking\n",
      "## Estimate\n",
      "Value: 26468823.66568483\n",
      "\n",
      "Causal Estimate is 26468823.66568483\n"
     ]
    }
   ],
   "source": [
    "causal_estimate_match = model.estimate_effect(identified_estimand,\n",
    "        method_name=\"backdoor.propensity_score_matching\")\n",
    "print(causal_estimate_match)\n",
    "print(\"Causal Estimate is \" + str(causal_estimate_match.value))"
   ]
  }
 ],
 "metadata": {
  "kernelspec": {
   "display_name": "Python 3",
   "language": "python",
   "name": "python3"
  },
  "language_info": {
   "codemirror_mode": {
    "name": "ipython",
    "version": 3
   },
   "file_extension": ".py",
   "mimetype": "text/x-python",
   "name": "python",
   "nbconvert_exporter": "python",
   "pygments_lexer": "ipython3",
   "version": "3.7.4"
  }
 },
 "nbformat": 4,
 "nbformat_minor": 4
}
