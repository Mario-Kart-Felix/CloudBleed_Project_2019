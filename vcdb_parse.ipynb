{
 "cells": [
  {
   "cell_type": "code",
   "execution_count": 2,
   "metadata": {},
   "outputs": [],
   "source": [
    "import pandas as pd\n",
    "import numpy as np\n",
    "import verispy, os\n",
    "from verispy import VERIS\n",
    "import seaborn as sns"
   ]
  },
  {
   "cell_type": "markdown",
   "metadata": {},
   "source": [
    "[Source for VERISPY + Useful README](https://github.com/RiskLens/verispy)"
   ]
  },
  {
   "cell_type": "code",
   "execution_count": 3,
   "metadata": {},
   "outputs": [
    {
     "name": "stdout",
     "output_type": "stream",
     "text": [
      "Found 8363 json files.\n",
      "Loading schema\n",
      "Loading JSON files to DataFrame.\n"
     ]
    },
    {
     "name": "stderr",
     "output_type": "stream",
     "text": [
      "100%|████████████████████████████████████████████████████████████████████████████| 8363/8363 [00:01<00:00, 4295.49it/s]\n"
     ]
    },
    {
     "name": "stdout",
     "output_type": "stream",
     "text": [
      "Finished loading JSON files to dataframe.\n",
      "Building DataFrame with enumerations.\n",
      "Building enumeration columns.\n"
     ]
    },
    {
     "name": "stderr",
     "output_type": "stream",
     "text": [
      "100%|████████████████████████████████████████████████████████████████████████████████| 173/173 [00:15<00:00, 11.02it/s]\n"
     ]
    },
    {
     "name": "stdout",
     "output_type": "stream",
     "text": [
      "Done building DataFrame with enumerations.\n",
      "Post-Processing DataFrame (A4 Names, Victim Industries, Patterns)\n",
      "Finished building VERIS DataFrame\n",
      "(8363, 2476)\n"
     ]
    }
   ],
   "source": [
    "\n",
    "\n",
    "DATA_DIR =\"./data/validated\"\n",
    "v = VERIS(json_dir=DATA_DIR,schema_url='https://raw.githubusercontent.com/vz-risk/VCDB/master/vcdb-merged.json' ,verbose=True)\n",
    "\n",
    "vdf = v.json_to_df(keep_raw=True)\n",
    "# vdf['incident_id']\n",
    "print(vdf.shape)\n"
   ]
  },
  {
   "cell_type": "markdown",
   "metadata": {},
   "source": [
    "##### v is a VERIS object. vdf contains the actual data. "
   ]
  },
  {
   "cell_type": "code",
   "execution_count": 4,
   "metadata": {},
   "outputs": [
    {
     "data": {
      "text/plain": [
       "8358"
      ]
     },
     "execution_count": 4,
     "metadata": {},
     "output_type": "execute_result"
    }
   ],
   "source": [
    "len(set(vdf['incident_id']))\n",
    "# len(set(vdf['plus.master_id']))"
   ]
  },
  {
   "cell_type": "markdown",
   "metadata": {},
   "source": [
    "[Good StackOverflow Answer on working with Dataframes vvv](https://stackoverflow.com/questions/17071871/how-to-select-rows-from-a-dataframe-based-on-column-values)"
   ]
  },
  {
   "cell_type": "code",
   "execution_count": 5,
   "metadata": {},
   "outputs": [
    {
     "name": "stdout",
     "output_type": "stream",
     "text": [
      "          enum    x     n     freq\n",
      "0          1.0  882  4711  0.18722\n",
      "1          2.0   98  4711  0.02080\n",
      "2       1000.0   57  4711  0.01210\n",
      "3          3.0   50  4711  0.01061\n",
      "4       2000.0   41  4711  0.00870\n",
      "...        ...  ...   ...      ...\n",
      "1734   26044.0    1  4711  0.00021\n",
      "1735   67000.0    1  4711  0.00021\n",
      "1736    1464.0    1  4711  0.00021\n",
      "1737    1456.0    1  4711  0.00021\n",
      "1738  385000.0    1  4711  0.00021\n",
      "\n",
      "[1739 rows x 4 columns]\n",
      "(4711, 2476)\n"
     ]
    },
    {
     "data": {
      "image/png": "[encoded data removed]",
      "text/plain": [
       "<Figure size 432x288 with 1 Axes>"
      ]
     },
     "metadata": {
      "needs_background": "light"
     },
     "output_type": "display_data"
    },
    {
     "data": {
      "text/plain": [
       "(array([980., 109., 138., 167., 214., 200., 320., 602., 516., 353., 261.,\n",
       "        173., 129., 104., 102., 105.,  75.,  53.,  48.,  39.,  13.,   6.,\n",
       "          3.,   0.,   1.]),\n",
       " array([ 0.        ,  0.9283269 ,  1.8566538 ,  2.7849807 ,  3.7133076 ,\n",
       "         4.6416345 ,  5.5699614 ,  6.4982883 ,  7.4266152 ,  8.3549421 ,\n",
       "         9.28326899, 10.21159589, 11.13992279, 12.06824969, 12.99657659,\n",
       "        13.92490349, 14.85323039, 15.78155729, 16.70988419, 17.63821109,\n",
       "        18.56653799, 19.49486489, 20.42319179, 21.35151869, 22.27984559,\n",
       "        23.20817249]),\n",
       " <a list of 25 Patch objects>)"
      ]
     },
     "execution_count": 5,
     "metadata": {},
     "output_type": "execute_result"
    },
    {
     "data": {
      "image/png": "[encoded data removed]",
      "text/plain": [
       "<Figure size 432x288 with 1 Axes>"
      ]
     },
     "metadata": {
      "needs_background": "light"
     },
     "output_type": "display_data"
    }
   ],
   "source": [
    "import matplotlib.pyplot as plt\n",
    "vdf.rename(columns={'attribute.confidentiality.data_total': 'records_lost'}, inplace=True)\n",
    "vdf\n",
    "vdf_loss = vdf.dropna(subset=[\"records_lost\"])\n",
    "vdf_loss['records_lost']\n",
    "print(v.enum_summary(vdf_loss, 'records_lost'))\n",
    "# vdf_loss[]\n",
    "plt.boxplot(np.log(vdf_loss[\"records_lost\"]))\n",
    "print(vdf_loss.shape)\n",
    "plt.show()\n",
    "plt.minorticks_on()\n",
    "plt.hist(np.log(vdf_loss[\"records_lost\"]), bins = 25, align='mid', width=.5)\n",
    "    "
   ]
  },
  {
   "cell_type": "markdown",
   "metadata": {},
   "source": [
    "Total Records Breached, Log Normalized"
   ]
  },
  {
   "cell_type": "code",
   "execution_count": 6,
   "metadata": {},
   "outputs": [
    {
     "name": "stdout",
     "output_type": "stream",
     "text": [
      "Employee Counts\n",
      "               enum     x       n     freq\n",
      "0       Over 100000   918  3444.0  0.26655\n",
      "1     1001 to 10000   695  3444.0  0.20180\n",
      "2       101 to 1000   513  3444.0  0.14895\n",
      "3         11 to 100   359  3444.0  0.10424\n",
      "4           1 to 10   267  3444.0  0.07753\n",
      "5    10001 to 25000   216  3444.0  0.06272\n",
      "6             Small   185  3444.0  0.05372\n",
      "7             Large   139  3444.0  0.04036\n",
      "8    25001 to 50000    99  3444.0  0.02875\n",
      "9   50001 to 100000    53  3444.0  0.01539\n",
      "10          Unknown  1267     NaN      NaN\n"
     ]
    },
    {
     "data": {
      "image/png": "[encoded data removed]",
      "text/plain": [
       "<Figure size 1080x288 with 1 Axes>"
      ]
     },
     "metadata": {
      "needs_background": "light"
     },
     "output_type": "display_data"
    }
   ],
   "source": [
    "\n",
    "plt.figure(figsize=(15,4))\n",
    "plt.hist(v.raw_df['victim.employee_count'], align='mid', width = .5) # employee count for the entire distribution\n",
    "\n",
    "print(\"Employee Counts\")\n",
    "print(v.enum_summary(vdf_loss, 'victim.employee_count'))\n",
    "plt.show()\n",
    "# vdf_loss.assign(employee_count=vdf_loss['victim.employee_count.1 to 10'])"
   ]
  },
  {
   "cell_type": "code",
   "execution_count": 25,
   "metadata": {},
   "outputs": [
    {
     "name": "stdout",
     "output_type": "stream",
     "text": [
      "(8363, 173)\n",
      "(8363, 2476)\n",
      "(4711, 2476)\n"
     ]
    },
    {
     "name": "stderr",
     "output_type": "stream",
     "text": [
      "C:\\Users\\jakes\\Anaconda3\\lib\\site-packages\\ipykernel_launcher.py:20: SettingWithCopyWarning: \n",
      "A value is trying to be set on a copy of a slice from a DataFrame.\n",
      "Try using .loc[row_indexer,col_indexer] = value instead\n",
      "\n",
      "See the caveats in the documentation: http://pandas.pydata.org/pandas-docs/stable/user_guide/indexing.html#returning-a-view-versus-a-copy\n"
     ]
    },
    {
     "data": {
      "text/plain": [
       "(array([366., 445., 513.,   0., 731., 250.,   0., 138.,  83., 918.]),\n",
       " array([1. , 1.7, 2.4, 3.1, 3.8, 4.5, 5.2, 5.9, 6.6, 7.3, 8. ]),\n",
       " <a list of 10 Patch objects>)"
      ]
     },
     "execution_count": 25,
     "metadata": {},
     "output_type": "execute_result"
    },
    {
     "data": {
      "image/png": "[encoded data removed]",
      "text/plain": [
       "<Figure size 432x288 with 1 Axes>"
      ]
     },
     "metadata": {
      "needs_background": "light"
     },
     "output_type": "display_data"
    }
   ],
   "source": [
    "print(v.raw_df.shape)\n",
    "print(vdf.shape)\n",
    "print(vdf_loss.shape)\n",
    "vdf_loss_with_count = vdf_loss.join(v.raw_df['victim.employee_count']) #Takes from original raw dataframe\n",
    "vdf_loss_wc_known =  vdf_loss_with_count[vdf_loss_with_count['victim.employee_count'] != 'Unknown' ] #Remove unknown \n",
    "\n",
    "emp_counts = v.enumerations['victim.employee_count']\n",
    "emp_counts\n",
    "\n",
    "emp_count_map = {'1 to 10' : 1, '11 to 100': 2, '101 to 1000': 3, '1001 to 10000': 4, '10001 to 25000': 5, '25001 to 50000': 6, '50001 to 100000': 7, 'Over 100000': 8}\n",
    "\n",
    "def order_emp_count(row):\n",
    "    b = row['victim.employee_count']\n",
    "    if b == 'Small':\n",
    "        return np.random.randint(1,3)\n",
    "    if b == 'Large':\n",
    "        return np.random.randint(4,8)\n",
    "    return emp_count_map[b]\n",
    "\n",
    "vdf_loss_wc_known['emp_ord'] = vdf_loss_wc_known.apply(order_emp_count, axis=1)\n",
    "vdf_loss_wc_known\n",
    "plt.hist(vdf_loss_wc_known['emp_ord'])"
   ]
  },
  {
   "cell_type": "code",
   "execution_count": 22,
   "metadata": {},
   "outputs": [
    {
     "name": "stderr",
     "output_type": "stream",
     "text": [
      "C:\\Users\\jakes\\Anaconda3\\lib\\site-packages\\ipykernel_launcher.py:5: SettingWithCopyWarning: \n",
      "A value is trying to be set on a copy of a slice from a DataFrame.\n",
      "Try using .loc[row_indexer,col_indexer] = value instead\n",
      "\n",
      "See the caveats in the documentation: http://pandas.pydata.org/pandas-docs/stable/user_guide/indexing.html#returning-a-view-versus-a-copy\n",
      "  \"\"\"\n"
     ]
    }
   ],
   "source": [
    "def assign_bugs(row):\n",
    "    return row['action.Malware'] | row['action.Hacking']\n",
    "        \n",
    "vdf_loss_wc_known['action.Bugs'] = vdf_loss_wc_known.apply(assign_bugs, axis=1)\n",
    "\n"
   ]
  },
  {
   "cell_type": "code",
   "execution_count": 21,
   "metadata": {},
   "outputs": [
    {
     "data": {
      "text/html": [
       "<div>\n",
       "<style scoped>\n",
       "    .dataframe tbody tr th:only-of-type {\n",
       "        vertical-align: middle;\n",
       "    }\n",
       "\n",
       "    .dataframe tbody tr th {\n",
       "        vertical-align: top;\n",
       "    }\n",
       "\n",
       "    .dataframe thead th {\n",
       "        text-align: right;\n",
       "    }\n",
       "</style>\n",
       "<table border=\"1\" class=\"dataframe\">\n",
       "  <thead>\n",
       "    <tr style=\"text-align: right;\">\n",
       "      <th></th>\n",
       "      <th>action.Environmental</th>\n",
       "      <th>action.Error</th>\n",
       "      <th>action.Hacking</th>\n",
       "      <th>action.Malware</th>\n",
       "      <th>action.Misuse</th>\n",
       "      <th>action.Physical</th>\n",
       "      <th>action.Social</th>\n",
       "      <th>action.Unknown</th>\n",
       "      <th>action.environmental.notes</th>\n",
       "      <th>action.environmental.variety.Deterioration</th>\n",
       "      <th>...</th>\n",
       "      <th>victim.revenue.iso_currency_code.ZMK</th>\n",
       "      <th>victim.revenue.iso_currency_code.ZWD</th>\n",
       "      <th>victim.secondary.amount</th>\n",
       "      <th>victim.secondary.notes</th>\n",
       "      <th>victim.secondary.victim_id</th>\n",
       "      <th>victim.state</th>\n",
       "      <th>victim.victim_id</th>\n",
       "      <th>victim.employee_count</th>\n",
       "      <th>emp_ord</th>\n",
       "      <th>bugs</th>\n",
       "    </tr>\n",
       "  </thead>\n",
       "  <tbody>\n",
       "    <tr>\n",
       "      <td>0</td>\n",
       "      <td>False</td>\n",
       "      <td>False</td>\n",
       "      <td>False</td>\n",
       "      <td>False</td>\n",
       "      <td>True</td>\n",
       "      <td>False</td>\n",
       "      <td>False</td>\n",
       "      <td>False</td>\n",
       "      <td>NaN</td>\n",
       "      <td>False</td>\n",
       "      <td>...</td>\n",
       "      <td>False</td>\n",
       "      <td>False</td>\n",
       "      <td>NaN</td>\n",
       "      <td>NaN</td>\n",
       "      <td>NaN</td>\n",
       "      <td>MO</td>\n",
       "      <td>United States Department of Veterans Affairs</td>\n",
       "      <td>Over 100000</td>\n",
       "      <td>8</td>\n",
       "      <td>False</td>\n",
       "    </tr>\n",
       "    <tr>\n",
       "      <td>4</td>\n",
       "      <td>False</td>\n",
       "      <td>True</td>\n",
       "      <td>False</td>\n",
       "      <td>False</td>\n",
       "      <td>False</td>\n",
       "      <td>False</td>\n",
       "      <td>False</td>\n",
       "      <td>False</td>\n",
       "      <td>NaN</td>\n",
       "      <td>False</td>\n",
       "      <td>...</td>\n",
       "      <td>False</td>\n",
       "      <td>False</td>\n",
       "      <td>NaN</td>\n",
       "      <td>NaN</td>\n",
       "      <td>NaN</td>\n",
       "      <td>PA</td>\n",
       "      <td>United States Department of Veterans Affairs</td>\n",
       "      <td>Over 100000</td>\n",
       "      <td>8</td>\n",
       "      <td>False</td>\n",
       "    </tr>\n",
       "    <tr>\n",
       "      <td>5</td>\n",
       "      <td>False</td>\n",
       "      <td>True</td>\n",
       "      <td>False</td>\n",
       "      <td>False</td>\n",
       "      <td>False</td>\n",
       "      <td>False</td>\n",
       "      <td>False</td>\n",
       "      <td>False</td>\n",
       "      <td>NaN</td>\n",
       "      <td>False</td>\n",
       "      <td>...</td>\n",
       "      <td>False</td>\n",
       "      <td>False</td>\n",
       "      <td>NaN</td>\n",
       "      <td>NaN</td>\n",
       "      <td>NaN</td>\n",
       "      <td>PA</td>\n",
       "      <td>United States Department of Veterans Affairs</td>\n",
       "      <td>Over 100000</td>\n",
       "      <td>8</td>\n",
       "      <td>False</td>\n",
       "    </tr>\n",
       "    <tr>\n",
       "      <td>8</td>\n",
       "      <td>False</td>\n",
       "      <td>False</td>\n",
       "      <td>False</td>\n",
       "      <td>False</td>\n",
       "      <td>False</td>\n",
       "      <td>True</td>\n",
       "      <td>False</td>\n",
       "      <td>False</td>\n",
       "      <td>NaN</td>\n",
       "      <td>False</td>\n",
       "      <td>...</td>\n",
       "      <td>False</td>\n",
       "      <td>False</td>\n",
       "      <td>NaN</td>\n",
       "      <td>NaN</td>\n",
       "      <td>NaN</td>\n",
       "      <td>CA</td>\n",
       "      <td>Sutter Medical Foundation</td>\n",
       "      <td>1 to 10</td>\n",
       "      <td>1</td>\n",
       "      <td>False</td>\n",
       "    </tr>\n",
       "    <tr>\n",
       "      <td>11</td>\n",
       "      <td>False</td>\n",
       "      <td>True</td>\n",
       "      <td>False</td>\n",
       "      <td>False</td>\n",
       "      <td>False</td>\n",
       "      <td>False</td>\n",
       "      <td>False</td>\n",
       "      <td>False</td>\n",
       "      <td>NaN</td>\n",
       "      <td>False</td>\n",
       "      <td>...</td>\n",
       "      <td>False</td>\n",
       "      <td>False</td>\n",
       "      <td>NaN</td>\n",
       "      <td>NaN</td>\n",
       "      <td>NaN</td>\n",
       "      <td>NH</td>\n",
       "      <td>United States Department of Veterans Affairs</td>\n",
       "      <td>Over 100000</td>\n",
       "      <td>8</td>\n",
       "      <td>False</td>\n",
       "    </tr>\n",
       "    <tr>\n",
       "      <td>...</td>\n",
       "      <td>...</td>\n",
       "      <td>...</td>\n",
       "      <td>...</td>\n",
       "      <td>...</td>\n",
       "      <td>...</td>\n",
       "      <td>...</td>\n",
       "      <td>...</td>\n",
       "      <td>...</td>\n",
       "      <td>...</td>\n",
       "      <td>...</td>\n",
       "      <td>...</td>\n",
       "      <td>...</td>\n",
       "      <td>...</td>\n",
       "      <td>...</td>\n",
       "      <td>...</td>\n",
       "      <td>...</td>\n",
       "      <td>...</td>\n",
       "      <td>...</td>\n",
       "      <td>...</td>\n",
       "      <td>...</td>\n",
       "      <td>...</td>\n",
       "    </tr>\n",
       "    <tr>\n",
       "      <td>8349</td>\n",
       "      <td>False</td>\n",
       "      <td>False</td>\n",
       "      <td>False</td>\n",
       "      <td>False</td>\n",
       "      <td>False</td>\n",
       "      <td>True</td>\n",
       "      <td>False</td>\n",
       "      <td>False</td>\n",
       "      <td>NaN</td>\n",
       "      <td>False</td>\n",
       "      <td>...</td>\n",
       "      <td>False</td>\n",
       "      <td>False</td>\n",
       "      <td>NaN</td>\n",
       "      <td>NaN</td>\n",
       "      <td>NaN</td>\n",
       "      <td>TX</td>\n",
       "      <td>Children’s Medical Center of Dallas</td>\n",
       "      <td>1001 to 10000</td>\n",
       "      <td>4</td>\n",
       "      <td>False</td>\n",
       "    </tr>\n",
       "    <tr>\n",
       "      <td>8350</td>\n",
       "      <td>False</td>\n",
       "      <td>False</td>\n",
       "      <td>False</td>\n",
       "      <td>False</td>\n",
       "      <td>True</td>\n",
       "      <td>False</td>\n",
       "      <td>False</td>\n",
       "      <td>False</td>\n",
       "      <td>NaN</td>\n",
       "      <td>False</td>\n",
       "      <td>...</td>\n",
       "      <td>False</td>\n",
       "      <td>False</td>\n",
       "      <td>NaN</td>\n",
       "      <td>NaN</td>\n",
       "      <td>NaN</td>\n",
       "      <td>PA</td>\n",
       "      <td>Penn State Hershey Medical Center</td>\n",
       "      <td>1001 to 10000</td>\n",
       "      <td>4</td>\n",
       "      <td>False</td>\n",
       "    </tr>\n",
       "    <tr>\n",
       "      <td>8352</td>\n",
       "      <td>False</td>\n",
       "      <td>True</td>\n",
       "      <td>False</td>\n",
       "      <td>False</td>\n",
       "      <td>False</td>\n",
       "      <td>False</td>\n",
       "      <td>False</td>\n",
       "      <td>False</td>\n",
       "      <td>NaN</td>\n",
       "      <td>False</td>\n",
       "      <td>...</td>\n",
       "      <td>False</td>\n",
       "      <td>False</td>\n",
       "      <td>NaN</td>\n",
       "      <td>NaN</td>\n",
       "      <td>NaN</td>\n",
       "      <td>IL</td>\n",
       "      <td>Silver Cross Hospital</td>\n",
       "      <td>1001 to 10000</td>\n",
       "      <td>4</td>\n",
       "      <td>False</td>\n",
       "    </tr>\n",
       "    <tr>\n",
       "      <td>8357</td>\n",
       "      <td>False</td>\n",
       "      <td>False</td>\n",
       "      <td>True</td>\n",
       "      <td>False</td>\n",
       "      <td>False</td>\n",
       "      <td>False</td>\n",
       "      <td>False</td>\n",
       "      <td>False</td>\n",
       "      <td>NaN</td>\n",
       "      <td>False</td>\n",
       "      <td>...</td>\n",
       "      <td>False</td>\n",
       "      <td>False</td>\n",
       "      <td>NaN</td>\n",
       "      <td>NaN</td>\n",
       "      <td>NaN</td>\n",
       "      <td>NaN</td>\n",
       "      <td>Al Zahra Private Medical Centre</td>\n",
       "      <td>101 to 1000</td>\n",
       "      <td>3</td>\n",
       "      <td>True</td>\n",
       "    </tr>\n",
       "    <tr>\n",
       "      <td>8362</td>\n",
       "      <td>False</td>\n",
       "      <td>True</td>\n",
       "      <td>False</td>\n",
       "      <td>False</td>\n",
       "      <td>False</td>\n",
       "      <td>False</td>\n",
       "      <td>False</td>\n",
       "      <td>False</td>\n",
       "      <td>NaN</td>\n",
       "      <td>False</td>\n",
       "      <td>...</td>\n",
       "      <td>False</td>\n",
       "      <td>False</td>\n",
       "      <td>NaN</td>\n",
       "      <td>NaN</td>\n",
       "      <td>NaN</td>\n",
       "      <td>KS</td>\n",
       "      <td>United States Department of Veterans Affairs</td>\n",
       "      <td>Over 100000</td>\n",
       "      <td>8</td>\n",
       "      <td>False</td>\n",
       "    </tr>\n",
       "  </tbody>\n",
       "</table>\n",
       "<p>3444 rows × 2479 columns</p>\n",
       "</div>"
      ],
      "text/plain": [
       "      action.Environmental  action.Error  action.Hacking  action.Malware  \\\n",
       "0                    False         False           False           False   \n",
       "4                    False          True           False           False   \n",
       "5                    False          True           False           False   \n",
       "8                    False         False           False           False   \n",
       "11                   False          True           False           False   \n",
       "...                    ...           ...             ...             ...   \n",
       "8349                 False         False           False           False   \n",
       "8350                 False         False           False           False   \n",
       "8352                 False          True           False           False   \n",
       "8357                 False         False            True           False   \n",
       "8362                 False          True           False           False   \n",
       "\n",
       "      action.Misuse  action.Physical  action.Social  action.Unknown  \\\n",
       "0              True            False          False           False   \n",
       "4             False            False          False           False   \n",
       "5             False            False          False           False   \n",
       "8             False             True          False           False   \n",
       "11            False            False          False           False   \n",
       "...             ...              ...            ...             ...   \n",
       "8349          False             True          False           False   \n",
       "8350           True            False          False           False   \n",
       "8352          False            False          False           False   \n",
       "8357          False            False          False           False   \n",
       "8362          False            False          False           False   \n",
       "\n",
       "     action.environmental.notes  action.environmental.variety.Deterioration  \\\n",
       "0                           NaN                                       False   \n",
       "4                           NaN                                       False   \n",
       "5                           NaN                                       False   \n",
       "8                           NaN                                       False   \n",
       "11                          NaN                                       False   \n",
       "...                         ...                                         ...   \n",
       "8349                        NaN                                       False   \n",
       "8350                        NaN                                       False   \n",
       "8352                        NaN                                       False   \n",
       "8357                        NaN                                       False   \n",
       "8362                        NaN                                       False   \n",
       "\n",
       "      ...  victim.revenue.iso_currency_code.ZMK  \\\n",
       "0     ...                                 False   \n",
       "4     ...                                 False   \n",
       "5     ...                                 False   \n",
       "8     ...                                 False   \n",
       "11    ...                                 False   \n",
       "...   ...                                   ...   \n",
       "8349  ...                                 False   \n",
       "8350  ...                                 False   \n",
       "8352  ...                                 False   \n",
       "8357  ...                                 False   \n",
       "8362  ...                                 False   \n",
       "\n",
       "      victim.revenue.iso_currency_code.ZWD  victim.secondary.amount  \\\n",
       "0                                    False                      NaN   \n",
       "4                                    False                      NaN   \n",
       "5                                    False                      NaN   \n",
       "8                                    False                      NaN   \n",
       "11                                   False                      NaN   \n",
       "...                                    ...                      ...   \n",
       "8349                                 False                      NaN   \n",
       "8350                                 False                      NaN   \n",
       "8352                                 False                      NaN   \n",
       "8357                                 False                      NaN   \n",
       "8362                                 False                      NaN   \n",
       "\n",
       "      victim.secondary.notes  victim.secondary.victim_id  victim.state  \\\n",
       "0                        NaN                         NaN            MO   \n",
       "4                        NaN                         NaN            PA   \n",
       "5                        NaN                         NaN            PA   \n",
       "8                        NaN                         NaN            CA   \n",
       "11                       NaN                         NaN            NH   \n",
       "...                      ...                         ...           ...   \n",
       "8349                     NaN                         NaN            TX   \n",
       "8350                     NaN                         NaN            PA   \n",
       "8352                     NaN                         NaN            IL   \n",
       "8357                     NaN                         NaN           NaN   \n",
       "8362                     NaN                         NaN            KS   \n",
       "\n",
       "                                  victim.victim_id  victim.employee_count  \\\n",
       "0     United States Department of Veterans Affairs            Over 100000   \n",
       "4     United States Department of Veterans Affairs            Over 100000   \n",
       "5     United States Department of Veterans Affairs            Over 100000   \n",
       "8                        Sutter Medical Foundation                1 to 10   \n",
       "11    United States Department of Veterans Affairs            Over 100000   \n",
       "...                                            ...                    ...   \n",
       "8349           Children’s Medical Center of Dallas          1001 to 10000   \n",
       "8350             Penn State Hershey Medical Center          1001 to 10000   \n",
       "8352                         Silver Cross Hospital          1001 to 10000   \n",
       "8357               Al Zahra Private Medical Centre            101 to 1000   \n",
       "8362  United States Department of Veterans Affairs            Over 100000   \n",
       "\n",
       "      emp_ord   bugs  \n",
       "0           8  False  \n",
       "4           8  False  \n",
       "5           8  False  \n",
       "8           1  False  \n",
       "11          8  False  \n",
       "...       ...    ...  \n",
       "8349        4  False  \n",
       "8350        4  False  \n",
       "8352        4  False  \n",
       "8357        3   True  \n",
       "8362        8  False  \n",
       "\n",
       "[3444 rows x 2479 columns]"
      ]
     },
     "execution_count": 21,
     "metadata": {},
     "output_type": "execute_result"
    }
   ],
   "source": [
    "vdf_loss_wc_known"
   ]
  },
  {
   "cell_type": "code",
   "execution_count": null,
   "metadata": {},
   "outputs": [],
   "source": [
    "df_final['action.Bugs'] = bugs\n",
    "df_final\n"
   ]
  },
  {
   "cell_type": "code",
   "execution_count": null,
   "metadata": {},
   "outputs": [],
   "source": [
    "#Creates a smaller table for ease of running\n",
    "# N = 1000\n",
    "# sample = np.random.choice(8323, N)\n",
    "# df_short = df_final.iloc[sample,:].reset_index().iloc[:,1:]\n",
    "\n",
    "\n",
    "# Maybe we should id the column here in the future so we can refer to the original table values"
   ]
  },
  {
   "cell_type": "code",
   "execution_count": null,
   "metadata": {},
   "outputs": [],
   "source": [
    "# impactful_df = vdf[vdf['impact.overall_rating.Insignificant'] | vdf['impact.overall_rating.Distracting'] | vdf['impact.overall_rating.Painful'] | vdf['impact.overall_rating.Catastrophic'] | vdf['impact.overall_rating.Damaging']].reindex()\n",
    "# reset_impactful_df = impactful_df.reset_index(drop=True) #Resets the indicies\n",
    "# impactful_df_bugs = reset_impactful_df[reset_impactful_df['action.Hacking'] | reset_impactful_df['action.Malware']]\n",
    "# impactful_df_bugs\n"
   ]
  },
  {
   "cell_type": "code",
   "execution_count": null,
   "metadata": {},
   "outputs": [],
   "source": [
    "# indices = list(impactful_df_bugs.index)\n",
    "# bugs = [False] * impactful_df.shape[0]\n",
    "# for i in indices:\n",
    "#     bugs[i] = True\n",
    "# overall_rating = reset_impactful_df.loc[:, reset_impactful_df.columns.str.startswith('impact.overall_rating')]\n",
    "# df_final = reset_impactful_df.iloc[:, :7]\n",
    "# df_final['action.Bugs'] = bugs\n",
    "# result = pd.concat([df_final,overall_rating], axis=1, sort=False)\n",
    "# result = result.iloc[:,:13]\n",
    "# result "
   ]
  },
  {
   "cell_type": "code",
   "execution_count": null,
   "metadata": {},
   "outputs": [],
   "source": []
  },
  {
   "cell_type": "code",
   "execution_count": null,
   "metadata": {},
   "outputs": [],
   "source": [
    "#result['outcome'] \n",
    "\n",
    "#imp_name = \"impact.overall_rating\"\n",
    "#result.apply(outcome: lambda outcome + 1, axis = 1)\n",
    "#idxs = range(len(result))\n",
    "#for i in idxs:\n",
    "#    for rank in ranking.keys():\n",
    "#        if result.[i][rank]:\n",
    "#            print(rank) = \n",
    "#     for \n",
    "#             print result[rank]\n",
    "# ranking"
   ]
  },
  {
   "cell_type": "code",
   "execution_count": null,
   "metadata": {},
   "outputs": [],
   "source": [
    "# impact = [0] * result.shape[0]\n",
    "# for i in range(result.shape[0]):\n",
    "#     if(result.loc[i, 'impact.overall_rating.Insignificant']):\n",
    "#         impact[i] = 1\n",
    "#     elif(result.loc[i, 'impact.overall_rating.Distracting']):\n",
    "#         impact[i] = 2\n",
    "#     elif(result.loc[i, 'impact.overall_rating.Painful']):\n",
    "#         impact[i] = 3\n",
    "#     elif(result.loc[i, 'impact.overall_rating.Damaging']):\n",
    "#         impact[i] = 4\n",
    "#     elif(result.loc[i, 'impact.overall_rating.Catastrophic']):\n",
    "#         impact[i] = 5\n",
    "# result['action.Impact'] = impact #Impact rating column is named 'action.Impact'\n",
    "# result = result.loc[:, result.columns.str.startswith('action')] #CURRENT FINAL DATAFRAME\n",
    "# result\n",
    "# import matplotlib.pyplot as plt\n",
    "# plt.hist(result[\"action.Impact\"])"
   ]
  },
  {
   "cell_type": "code",
   "execution_count": null,
   "metadata": {},
   "outputs": [],
   "source": [
    "import numpy as np\n",
    "import pandas as pd\n",
    "import logging\n",
    "\n",
    "import dowhy\n",
    "from dowhy.do_why import CausalModel\n",
    "import dowhy.datasets, dowhy.plotter "
   ]
  },
  {
   "cell_type": "code",
   "execution_count": null,
   "metadata": {},
   "outputs": [],
   "source": [
    "import sys\n",
    "print(sys.version)"
   ]
  },
  {
   "cell_type": "code",
   "execution_count": null,
   "metadata": {},
   "outputs": [],
   "source": [
    "data = dowhy.datasets.linear_dataset(beta=10,\n",
    "        num_common_causes=5,\n",
    "        num_instruments = 2,\n",
    "        num_samples=10000,\n",
    "        treatment_is_binary=True)\n",
    "df = data[\"df\"]\n",
    "df"
   ]
  },
  {
   "cell_type": "code",
   "execution_count": null,
   "metadata": {},
   "outputs": [],
   "source": [
    "#Create causal model with instrumental\n",
    "model = CausalModel(\n",
    "    data = result,\n",
    "    treatment = 'action.Bugs',\n",
    "    outcome = 'records_lost',\n",
    "    graph = './NetworkXTest/test.gml',\n",
    "    logging_level = logging.INFO\n",
    ")\n",
    "#model.view_model(layout=\"dot\")"
   ]
  },
  {
   "cell_type": "code",
   "execution_count": null,
   "metadata": {},
   "outputs": [],
   "source": [
    "model.view_model()"
   ]
  },
  {
   "cell_type": "code",
   "execution_count": null,
   "metadata": {},
   "outputs": [],
   "source": [
    "from IPython.display import Image, display\n",
    "display(Image(filename=\"causal_model.png\"))"
   ]
  },
  {
   "cell_type": "markdown",
   "metadata": {},
   "source": [
    "We get a causal graph. Now identification and estimation is done. "
   ]
  },
  {
   "cell_type": "code",
   "execution_count": null,
   "metadata": {},
   "outputs": [],
   "source": [
    "identified_estimand = model.identify_effect()\n",
    "print(identified_estimand)"
   ]
  },
  {
   "cell_type": "code",
   "execution_count": null,
   "metadata": {},
   "outputs": [],
   "source": [
    "estimate = model.estimate_effect(identified_estimand,\n",
    "        method_name=\"backdoor.linear_regression\")\n",
    "print(\"Causal Estimate is \" + str(estimate.value))\n",
    "\n",
    "# Plot Slope of line between treamtent and outcome =causal effect\n",
    "dowhy.plotter.plot_causal_effect(estimate, result['action.Bugs'], result['action.Impact'])\n",
    "# I think the issue is our data isn't giving us a linear plot... this is linear regression after all"
   ]
  },
  {
   "cell_type": "code",
   "execution_count": null,
   "metadata": {},
   "outputs": [],
   "source": [
    "print(\"DoWhy estimate is \" + str(estimate.value))\n",
    "rvar = 1 if np.random.uniform() >0.5 else 0\n",
    "print (\"Actual true causal effect was {0}\".format(rvar))"
   ]
  },
  {
   "cell_type": "code",
   "execution_count": null,
   "metadata": {},
   "outputs": [],
   "source": [
    "identified_estimand = model.identify_effect(proceed_when_unidentifiable=True)\n",
    "print(identified_estimand)"
   ]
  },
  {
   "cell_type": "markdown",
   "metadata": {},
   "source": [
    "## Method 1: Stratification"
   ]
  },
  {
   "cell_type": "code",
   "execution_count": null,
   "metadata": {},
   "outputs": [],
   "source": [
    "causal_estimate = model.estimate_effect(identified_estimand,\n",
    "        method_name=\"backdoor.propensity_score_stratification\")\n",
    "print(causal_estimate)\n",
    "print(\"Causal Estimate is \" + str(causal_estimate.value))"
   ]
  },
  {
   "cell_type": "markdown",
   "metadata": {},
   "source": [
    "## Method 2: Matching"
   ]
  },
  {
   "cell_type": "code",
   "execution_count": null,
   "metadata": {},
   "outputs": [],
   "source": [
    "causal_estimate_match = model.estimate_effect(identified_estimand,\n",
    "        method_name=\"backdoor.propensity_score_matching\")\n",
    "print(causal_estimate_match)\n",
    "print(\"Causal Estimate is \" + str(causal_estimate_match.value))"
   ]
  },
  {
   "cell_type": "code",
   "execution_count": null,
   "metadata": {},
   "outputs": [],
   "source": []
  },
  {
   "cell_type": "code",
   "execution_count": null,
   "metadata": {},
   "outputs": [],
   "source": []
  },
  {
   "cell_type": "code",
   "execution_count": null,
   "metadata": {},
   "outputs": [],
   "source": []
  },
  {
   "cell_type": "code",
   "execution_count": null,
   "metadata": {},
   "outputs": [],
   "source": []
  }
 ],
 "metadata": {
  "kernelspec": {
   "display_name": "Python 3",
   "language": "python",
   "name": "python3"
  },
  "language_info": {
   "codemirror_mode": {
    "name": "ipython",
    "version": 3
   },
   "file_extension": ".py",
   "mimetype": "text/x-python",
   "name": "python",
   "nbconvert_exporter": "python",
   "pygments_lexer": "ipython3",
   "version": "3.7.4"
  }
 },
 "nbformat": 4,
 "nbformat_minor": 4
}
