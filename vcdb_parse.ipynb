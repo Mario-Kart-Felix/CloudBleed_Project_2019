{
 "cells": [
  {
   "cell_type": "code",
   "execution_count": 16,
   "metadata": {},
   "outputs": [],
   "source": [
    "import pandas as pd\n",
    "import numpy as np\n",
    "import verispy, os\n",
    "from verispy import VERIS\n",
    "import seaborn as sns\n",
    "from util import constants as cst\n",
    "import matplotlib as plt"
   ]
  },
  {
   "cell_type": "markdown",
   "metadata": {},
   "source": [
    "[Source for VERISPY + Useful README](https://github.com/RiskLens/verispy)"
   ]
  },
  {
   "cell_type": "code",
   "execution_count": 17,
   "metadata": {},
   "outputs": [
    {
     "name": "stderr",
     "output_type": "stream",
     "text": [
      "  0%|          | 0/8363 [00:00<?, ?it/s]"
     ]
    },
    {
     "name": "stdout",
     "output_type": "stream",
     "text": [
      "Found 8363 json files.\n",
      "Loading schema\n",
      "Loading JSON files to DataFrame.\n"
     ]
    },
    {
     "name": "stderr",
     "output_type": "stream",
     "text": [
      "100%|██████████| 8363/8363 [00:00<00:00, 15696.79it/s]\n",
      "  0%|          | 0/173 [00:00<?, ?it/s]"
     ]
    },
    {
     "name": "stdout",
     "output_type": "stream",
     "text": [
      "Finished loading JSON files to dataframe.\n",
      "Building DataFrame with enumerations.\n",
      "Building enumeration columns.\n"
     ]
    },
    {
     "name": "stderr",
     "output_type": "stream",
     "text": [
      "100%|██████████| 173/173 [00:05<00:00, 29.28it/s]\n"
     ]
    },
    {
     "name": "stdout",
     "output_type": "stream",
     "text": [
      "Done building DataFrame with enumerations.\n",
      "Post-Processing DataFrame (A4 Names, Victim Industries, Patterns)\n",
      "Finished building VERIS DataFrame\n",
      "(8363, 2347)\n"
     ]
    }
   ],
   "source": [
    "DATA_DIR =\"./data/validated\"\n",
    "v = VERIS(json_dir=DATA_DIR)\n",
    "vdf = v.json_to_df(keep_raw=True)\n",
    "print(vdf.shape)"
   ]
  },
  {
   "cell_type": "markdown",
   "metadata": {},
   "source": [
    "##### v is a VERIS object. vdf contains the actual data. "
   ]
  },
  {
   "cell_type": "code",
   "execution_count": null,
   "metadata": {},
   "outputs": [],
   "source": []
  },
  {
   "cell_type": "markdown",
   "metadata": {},
   "source": []
  },
  {
   "cell_type": "code",
   "execution_count": 18,
   "metadata": {},
   "outputs": [],
   "source": [
    "# f, ax = plt.subplots(figsize=(7, 3), sharex=True)\n",
    "\n",
    "vdf.rename(columns={'attribute.confidentiality.data_total': 'records_lost'}, inplace=True)\n",
    "vdf['action.Bugs'] = vdf['action.Hacking'] | vdf['action.Malware']\n",
    "vdf\n",
    "# vdf.assign('action.Bugs')\n",
    "# vdf = vdf.sample(1000)\n",
    "# sns.catplot(y='records_lost', data=vdf, kind=\"violin\")\n",
    "\n",
    "# adf=pd.Series()\n",
    "\n",
    "vdf_loss = vdf.dropna(subset=[\"records_lost\"])\n",
    "\n",
    "# vdf_loss['records_lost']\n",
    "# print(v.enum_summary(vdf_loss, 'records_lost')\n",
    "# sns.catplot(y=vdf_loss['records_lost'], orient=\"h\", kind=\"violin\")"
   ]
  },
  {
   "cell_type": "markdown",
   "metadata": {},
   "source": [
    "Total Records Breached, Log Normalized"
   ]
  },
  {
   "cell_type": "code",
   "execution_count": 19,
   "metadata": {},
   "outputs": [
    {
     "name": "stdout",
     "output_type": "stream",
     "text": [
      "\n"
     ]
    }
   ],
   "source": [
    "# for a in cst.ACTIONS:\n",
    "#     adf[a] = vdf_loss[vdf_loss[a]==True]\n",
    "    \n",
    "# adf['action.Environmental']\n",
    "# adf['action.Hacking']['records_lost']\n",
    "# # plt.hist(adf['action.Hacking']['records_lost'])\n",
    "# plt.setscale(\"log\")\n",
    "# print(adf[cst.ACTIONS])\n",
    "# sns.distplot(adf[cst.ACTIONS]['records_lost'])?\n",
    "\n",
    "vdf_final = vdf_loss.copy()\n",
    "print()"
   ]
  },
  {
   "cell_type": "code",
   "execution_count": 20,
   "metadata": {},
   "outputs": [
    {
     "data": {
      "text/html": [
       "<div>\n",
       "<style scoped>\n",
       "    .dataframe tbody tr th:only-of-type {\n",
       "        vertical-align: middle;\n",
       "    }\n",
       "\n",
       "    .dataframe tbody tr th {\n",
       "        vertical-align: top;\n",
       "    }\n",
       "\n",
       "    .dataframe thead th {\n",
       "        text-align: right;\n",
       "    }\n",
       "</style>\n",
       "<table border=\"1\" class=\"dataframe\">\n",
       "  <thead>\n",
       "    <tr style=\"text-align: right;\">\n",
       "      <th></th>\n",
       "      <th>action.Environmental</th>\n",
       "      <th>action.Error</th>\n",
       "      <th>action.Hacking</th>\n",
       "      <th>action.Malware</th>\n",
       "      <th>action.Misuse</th>\n",
       "      <th>action.Physical</th>\n",
       "      <th>action.Social</th>\n",
       "      <th>action.Unknown</th>\n",
       "      <th>action.environmental.notes</th>\n",
       "      <th>action.environmental.variety.Deterioration</th>\n",
       "      <th>...</th>\n",
       "      <th>victim.revenue.iso_currency_code.YER</th>\n",
       "      <th>victim.revenue.iso_currency_code.ZAR</th>\n",
       "      <th>victim.revenue.iso_currency_code.ZMK</th>\n",
       "      <th>victim.revenue.iso_currency_code.ZWD</th>\n",
       "      <th>victim.secondary.amount</th>\n",
       "      <th>victim.secondary.notes</th>\n",
       "      <th>victim.secondary.victim_id</th>\n",
       "      <th>victim.state</th>\n",
       "      <th>victim.victim_id</th>\n",
       "      <th>action.Bugs</th>\n",
       "    </tr>\n",
       "  </thead>\n",
       "  <tbody>\n",
       "    <tr>\n",
       "      <th>2</th>\n",
       "      <td>False</td>\n",
       "      <td>False</td>\n",
       "      <td>True</td>\n",
       "      <td>False</td>\n",
       "      <td>False</td>\n",
       "      <td>False</td>\n",
       "      <td>False</td>\n",
       "      <td>False</td>\n",
       "      <td>NaN</td>\n",
       "      <td>False</td>\n",
       "      <td>...</td>\n",
       "      <td>False</td>\n",
       "      <td>False</td>\n",
       "      <td>False</td>\n",
       "      <td>False</td>\n",
       "      <td>NaN</td>\n",
       "      <td>NaN</td>\n",
       "      <td>NaN</td>\n",
       "      <td>NaN</td>\n",
       "      <td>UA Customs Service</td>\n",
       "      <td>True</td>\n",
       "    </tr>\n",
       "    <tr>\n",
       "      <th>5</th>\n",
       "      <td>False</td>\n",
       "      <td>False</td>\n",
       "      <td>False</td>\n",
       "      <td>False</td>\n",
       "      <td>True</td>\n",
       "      <td>False</td>\n",
       "      <td>False</td>\n",
       "      <td>False</td>\n",
       "      <td>NaN</td>\n",
       "      <td>False</td>\n",
       "      <td>...</td>\n",
       "      <td>False</td>\n",
       "      <td>False</td>\n",
       "      <td>False</td>\n",
       "      <td>False</td>\n",
       "      <td>NaN</td>\n",
       "      <td>NaN</td>\n",
       "      <td>NaN</td>\n",
       "      <td>UT</td>\n",
       "      <td>United States Department of Veterans Affairs</td>\n",
       "      <td>False</td>\n",
       "    </tr>\n",
       "    <tr>\n",
       "      <th>7</th>\n",
       "      <td>False</td>\n",
       "      <td>True</td>\n",
       "      <td>False</td>\n",
       "      <td>False</td>\n",
       "      <td>False</td>\n",
       "      <td>False</td>\n",
       "      <td>False</td>\n",
       "      <td>False</td>\n",
       "      <td>NaN</td>\n",
       "      <td>False</td>\n",
       "      <td>...</td>\n",
       "      <td>False</td>\n",
       "      <td>False</td>\n",
       "      <td>False</td>\n",
       "      <td>False</td>\n",
       "      <td>NaN</td>\n",
       "      <td>NaN</td>\n",
       "      <td>NaN</td>\n",
       "      <td>NY</td>\n",
       "      <td>United States Department of Veterans Affairs</td>\n",
       "      <td>False</td>\n",
       "    </tr>\n",
       "    <tr>\n",
       "      <th>8</th>\n",
       "      <td>False</td>\n",
       "      <td>True</td>\n",
       "      <td>False</td>\n",
       "      <td>False</td>\n",
       "      <td>False</td>\n",
       "      <td>False</td>\n",
       "      <td>False</td>\n",
       "      <td>False</td>\n",
       "      <td>NaN</td>\n",
       "      <td>False</td>\n",
       "      <td>...</td>\n",
       "      <td>False</td>\n",
       "      <td>False</td>\n",
       "      <td>False</td>\n",
       "      <td>False</td>\n",
       "      <td>NaN</td>\n",
       "      <td>NaN</td>\n",
       "      <td>NaN</td>\n",
       "      <td>NaN</td>\n",
       "      <td>HM PASSPORT OFFICE</td>\n",
       "      <td>False</td>\n",
       "    </tr>\n",
       "    <tr>\n",
       "      <th>9</th>\n",
       "      <td>False</td>\n",
       "      <td>False</td>\n",
       "      <td>False</td>\n",
       "      <td>False</td>\n",
       "      <td>False</td>\n",
       "      <td>True</td>\n",
       "      <td>False</td>\n",
       "      <td>False</td>\n",
       "      <td>NaN</td>\n",
       "      <td>False</td>\n",
       "      <td>...</td>\n",
       "      <td>False</td>\n",
       "      <td>False</td>\n",
       "      <td>False</td>\n",
       "      <td>False</td>\n",
       "      <td>NaN</td>\n",
       "      <td>NaN</td>\n",
       "      <td>NaN</td>\n",
       "      <td>FL</td>\n",
       "      <td>Ace Homecare LLC</td>\n",
       "      <td>False</td>\n",
       "    </tr>\n",
       "    <tr>\n",
       "      <th>...</th>\n",
       "      <td>...</td>\n",
       "      <td>...</td>\n",
       "      <td>...</td>\n",
       "      <td>...</td>\n",
       "      <td>...</td>\n",
       "      <td>...</td>\n",
       "      <td>...</td>\n",
       "      <td>...</td>\n",
       "      <td>...</td>\n",
       "      <td>...</td>\n",
       "      <td>...</td>\n",
       "      <td>...</td>\n",
       "      <td>...</td>\n",
       "      <td>...</td>\n",
       "      <td>...</td>\n",
       "      <td>...</td>\n",
       "      <td>...</td>\n",
       "      <td>...</td>\n",
       "      <td>...</td>\n",
       "      <td>...</td>\n",
       "      <td>...</td>\n",
       "    </tr>\n",
       "    <tr>\n",
       "      <th>8353</th>\n",
       "      <td>False</td>\n",
       "      <td>True</td>\n",
       "      <td>False</td>\n",
       "      <td>False</td>\n",
       "      <td>False</td>\n",
       "      <td>False</td>\n",
       "      <td>False</td>\n",
       "      <td>False</td>\n",
       "      <td>NaN</td>\n",
       "      <td>False</td>\n",
       "      <td>...</td>\n",
       "      <td>False</td>\n",
       "      <td>False</td>\n",
       "      <td>False</td>\n",
       "      <td>False</td>\n",
       "      <td>NaN</td>\n",
       "      <td>NaN</td>\n",
       "      <td>NaN</td>\n",
       "      <td>NaN</td>\n",
       "      <td>Cambridgeshire and Peterborough NHS Foundation...</td>\n",
       "      <td>False</td>\n",
       "    </tr>\n",
       "    <tr>\n",
       "      <th>8356</th>\n",
       "      <td>False</td>\n",
       "      <td>False</td>\n",
       "      <td>False</td>\n",
       "      <td>False</td>\n",
       "      <td>False</td>\n",
       "      <td>True</td>\n",
       "      <td>False</td>\n",
       "      <td>False</td>\n",
       "      <td>NaN</td>\n",
       "      <td>False</td>\n",
       "      <td>...</td>\n",
       "      <td>False</td>\n",
       "      <td>False</td>\n",
       "      <td>False</td>\n",
       "      <td>False</td>\n",
       "      <td>NaN</td>\n",
       "      <td>NaN</td>\n",
       "      <td>NaN</td>\n",
       "      <td>NaN</td>\n",
       "      <td>Epsom and St Helier Hospitals NHS Trust</td>\n",
       "      <td>False</td>\n",
       "    </tr>\n",
       "    <tr>\n",
       "      <th>8357</th>\n",
       "      <td>False</td>\n",
       "      <td>False</td>\n",
       "      <td>False</td>\n",
       "      <td>False</td>\n",
       "      <td>True</td>\n",
       "      <td>False</td>\n",
       "      <td>False</td>\n",
       "      <td>False</td>\n",
       "      <td>NaN</td>\n",
       "      <td>False</td>\n",
       "      <td>...</td>\n",
       "      <td>False</td>\n",
       "      <td>False</td>\n",
       "      <td>False</td>\n",
       "      <td>False</td>\n",
       "      <td>NaN</td>\n",
       "      <td>NaN</td>\n",
       "      <td>NaN</td>\n",
       "      <td>GA</td>\n",
       "      <td>LabMD, Inc.</td>\n",
       "      <td>False</td>\n",
       "    </tr>\n",
       "    <tr>\n",
       "      <th>8360</th>\n",
       "      <td>False</td>\n",
       "      <td>False</td>\n",
       "      <td>False</td>\n",
       "      <td>False</td>\n",
       "      <td>True</td>\n",
       "      <td>False</td>\n",
       "      <td>False</td>\n",
       "      <td>False</td>\n",
       "      <td>NaN</td>\n",
       "      <td>False</td>\n",
       "      <td>...</td>\n",
       "      <td>False</td>\n",
       "      <td>False</td>\n",
       "      <td>False</td>\n",
       "      <td>False</td>\n",
       "      <td>NaN</td>\n",
       "      <td>NaN</td>\n",
       "      <td>NaN</td>\n",
       "      <td>NaN</td>\n",
       "      <td>Peterborough Regional Health Centre</td>\n",
       "      <td>False</td>\n",
       "    </tr>\n",
       "    <tr>\n",
       "      <th>8362</th>\n",
       "      <td>False</td>\n",
       "      <td>False</td>\n",
       "      <td>False</td>\n",
       "      <td>False</td>\n",
       "      <td>True</td>\n",
       "      <td>False</td>\n",
       "      <td>False</td>\n",
       "      <td>False</td>\n",
       "      <td>NaN</td>\n",
       "      <td>False</td>\n",
       "      <td>...</td>\n",
       "      <td>False</td>\n",
       "      <td>False</td>\n",
       "      <td>False</td>\n",
       "      <td>False</td>\n",
       "      <td>NaN</td>\n",
       "      <td>NaN</td>\n",
       "      <td>NaN</td>\n",
       "      <td>IL</td>\n",
       "      <td>United States Department of Veterans Affairs</td>\n",
       "      <td>False</td>\n",
       "    </tr>\n",
       "  </tbody>\n",
       "</table>\n",
       "<p>4711 rows × 2348 columns</p>\n",
       "</div>"
      ],
      "text/plain": [
       "      action.Environmental  action.Error  action.Hacking  action.Malware  \\\n",
       "2                    False         False            True           False   \n",
       "5                    False         False           False           False   \n",
       "7                    False          True           False           False   \n",
       "8                    False          True           False           False   \n",
       "9                    False         False           False           False   \n",
       "...                    ...           ...             ...             ...   \n",
       "8353                 False          True           False           False   \n",
       "8356                 False         False           False           False   \n",
       "8357                 False         False           False           False   \n",
       "8360                 False         False           False           False   \n",
       "8362                 False         False           False           False   \n",
       "\n",
       "      action.Misuse  action.Physical  action.Social  action.Unknown  \\\n",
       "2             False            False          False           False   \n",
       "5              True            False          False           False   \n",
       "7             False            False          False           False   \n",
       "8             False            False          False           False   \n",
       "9             False             True          False           False   \n",
       "...             ...              ...            ...             ...   \n",
       "8353          False            False          False           False   \n",
       "8356          False             True          False           False   \n",
       "8357           True            False          False           False   \n",
       "8360           True            False          False           False   \n",
       "8362           True            False          False           False   \n",
       "\n",
       "     action.environmental.notes  action.environmental.variety.Deterioration  \\\n",
       "2                           NaN                                       False   \n",
       "5                           NaN                                       False   \n",
       "7                           NaN                                       False   \n",
       "8                           NaN                                       False   \n",
       "9                           NaN                                       False   \n",
       "...                         ...                                         ...   \n",
       "8353                        NaN                                       False   \n",
       "8356                        NaN                                       False   \n",
       "8357                        NaN                                       False   \n",
       "8360                        NaN                                       False   \n",
       "8362                        NaN                                       False   \n",
       "\n",
       "      ...  victim.revenue.iso_currency_code.YER  \\\n",
       "2     ...                                 False   \n",
       "5     ...                                 False   \n",
       "7     ...                                 False   \n",
       "8     ...                                 False   \n",
       "9     ...                                 False   \n",
       "...   ...                                   ...   \n",
       "8353  ...                                 False   \n",
       "8356  ...                                 False   \n",
       "8357  ...                                 False   \n",
       "8360  ...                                 False   \n",
       "8362  ...                                 False   \n",
       "\n",
       "      victim.revenue.iso_currency_code.ZAR  \\\n",
       "2                                    False   \n",
       "5                                    False   \n",
       "7                                    False   \n",
       "8                                    False   \n",
       "9                                    False   \n",
       "...                                    ...   \n",
       "8353                                 False   \n",
       "8356                                 False   \n",
       "8357                                 False   \n",
       "8360                                 False   \n",
       "8362                                 False   \n",
       "\n",
       "      victim.revenue.iso_currency_code.ZMK  \\\n",
       "2                                    False   \n",
       "5                                    False   \n",
       "7                                    False   \n",
       "8                                    False   \n",
       "9                                    False   \n",
       "...                                    ...   \n",
       "8353                                 False   \n",
       "8356                                 False   \n",
       "8357                                 False   \n",
       "8360                                 False   \n",
       "8362                                 False   \n",
       "\n",
       "      victim.revenue.iso_currency_code.ZWD  victim.secondary.amount  \\\n",
       "2                                    False                      NaN   \n",
       "5                                    False                      NaN   \n",
       "7                                    False                      NaN   \n",
       "8                                    False                      NaN   \n",
       "9                                    False                      NaN   \n",
       "...                                    ...                      ...   \n",
       "8353                                 False                      NaN   \n",
       "8356                                 False                      NaN   \n",
       "8357                                 False                      NaN   \n",
       "8360                                 False                      NaN   \n",
       "8362                                 False                      NaN   \n",
       "\n",
       "      victim.secondary.notes  victim.secondary.victim_id  victim.state  \\\n",
       "2                        NaN                         NaN           NaN   \n",
       "5                        NaN                         NaN            UT   \n",
       "7                        NaN                         NaN            NY   \n",
       "8                        NaN                         NaN           NaN   \n",
       "9                        NaN                         NaN            FL   \n",
       "...                      ...                         ...           ...   \n",
       "8353                     NaN                         NaN           NaN   \n",
       "8356                     NaN                         NaN           NaN   \n",
       "8357                     NaN                         NaN            GA   \n",
       "8360                     NaN                         NaN           NaN   \n",
       "8362                     NaN                         NaN            IL   \n",
       "\n",
       "                                       victim.victim_id  action.Bugs  \n",
       "2                                    UA Customs Service         True  \n",
       "5          United States Department of Veterans Affairs        False  \n",
       "7          United States Department of Veterans Affairs        False  \n",
       "8                                    HM PASSPORT OFFICE        False  \n",
       "9                                      Ace Homecare LLC        False  \n",
       "...                                                 ...          ...  \n",
       "8353  Cambridgeshire and Peterborough NHS Foundation...        False  \n",
       "8356            Epsom and St Helier Hospitals NHS Trust        False  \n",
       "8357                                        LabMD, Inc.        False  \n",
       "8360                Peterborough Regional Health Centre        False  \n",
       "8362       United States Department of Veterans Affairs        False  \n",
       "\n",
       "[4711 rows x 2348 columns]"
      ]
     },
     "execution_count": 20,
     "metadata": {},
     "output_type": "execute_result"
    }
   ],
   "source": [
    "# def assign_bugs(row):\n",
    "#     return row.loc['action.Malware'] | row['action.Hacking']\n",
    "# vdf_final[{'action.Malware', 'action.Hacking'}]\n",
    "# vdf_final.assign('action.Bugs' = lambda x: x['action.Hacking'] | x['action.Bugs'])\n",
    "# vdf_final[vdf[{'action.Hacking', 'action.Malware'}]==True].index\n",
    "vdf_final"
   ]
  },
  {
   "cell_type": "code",
   "execution_count": 21,
   "metadata": {},
   "outputs": [],
   "source": [
    "# vdf_final['action.']"
   ]
  },
  {
   "cell_type": "code",
   "execution_count": 22,
   "metadata": {},
   "outputs": [],
   "source": [
    "import logging\n",
    "import dowhy\n",
    "import pygraphviz\n",
    "import dowhy.datasets, dowhy.plotter\n",
    "try:\n",
    "    from dowhy import CausalModel\n",
    "except:\n",
    "    from dowhy.do_why import CausalModel"
   ]
  },
  {
   "cell_type": "code",
   "execution_count": 23,
   "metadata": {},
   "outputs": [
    {
     "name": "stdout",
     "output_type": "stream",
     "text": [
      "3.8.1 | packaged by conda-forge | (default, Jan  5 2020, 20:58:18) \n",
      "[GCC 7.3.0]\n"
     ]
    }
   ],
   "source": [
    "import sys\n",
    "print(sys.version)"
   ]
  },
  {
   "cell_type": "code",
   "execution_count": 24,
   "metadata": {},
   "outputs": [
    {
     "name": "stderr",
     "output_type": "stream",
     "text": [
      "WARNING:dowhy.do_why:Causal Graph not provided. DoWhy will construct a graph based on data inputs.\n",
      "INFO:dowhy.do_why:Model to find the causal effect of treatment ['action.Bugs'] on outcome ['records_lost']\n"
     ]
    },
    {
     "name": "stdout",
     "output_type": "stream",
     "text": [
      "2         64.0\n",
      "5          1.0\n",
      "7          1.0\n",
      "8          3.0\n",
      "9         41.0\n",
      "         ...  \n",
      "8353      47.0\n",
      "8356     300.0\n",
      "8357    9300.0\n",
      "8360     280.0\n",
      "8362       1.0\n",
      "Name: records_lost, Length: 4711, dtype: float64\n"
     ]
    }
   ],
   "source": [
    "# Create causal model with instrumental\n",
    "print(vdf_final['records_lost'])\n",
    "\n",
    "model = CausalModel(\n",
    "    data = vdf_final,\n",
    "    treatment = 'action.Bugs',\n",
    "    outcome = 'records_lost',\n",
    "    common_causes = ['action.Environmental', 'action.Error', 'action.Misuse', 'action.Physical', 'action.Social'],\n",
    "    instruments = ['action.Hacking', 'action.Malware'],\n",
    "    logging_level = logging.INFO\n",
    ")\n",
    "model.view_model(layout=\"dot\")"
   ]
  },
  {
   "cell_type": "code",
   "execution_count": null,
   "metadata": {},
   "outputs": [],
   "source": []
  },
  {
   "cell_type": "code",
   "execution_count": 25,
   "metadata": {},
   "outputs": [
    {
     "data": {
      "image/png": "[encoded data removed]",
      "text/plain": [
       "<IPython.core.display.Image object>"
      ]
     },
     "metadata": {},
     "output_type": "display_data"
    }
   ],
   "source": [
    "from IPython.display import Image, display\n",
    "display(Image(filename=\"causal_model.png\"))"
   ]
  },
  {
   "cell_type": "markdown",
   "metadata": {},
   "source": [
    "We get a causal graph. Now identification and estimation is done. "
   ]
  },
  {
   "cell_type": "code",
   "execution_count": 26,
   "metadata": {},
   "outputs": [
    {
     "name": "stderr",
     "output_type": "stream",
     "text": [
      "INFO:dowhy.causal_identifier:Common causes of treatment and outcome:['action.Misuse', 'U', 'action.Environmental', 'action.Physical', 'action.Social', 'action.Error']\n",
      "WARNING:dowhy.causal_identifier:There are unobserved common causes. Causal effect cannot be identified.\n",
      "INFO:dowhy.causal_identifier:Continuing by ignoring these unobserved confounders because proceed_when_unidentifiable flag is True.\n",
      "INFO:dowhy.causal_identifier:Instrumental variables for treatment and outcome:['action.Hacking', 'action.Malware']\n"
     ]
    },
    {
     "name": "stdout",
     "output_type": "stream",
     "text": [
      "Estimand type: ate\n",
      "### Estimand : 1\n",
      "Estimand name: backdoor\n",
      "Estimand expression:\n",
      "     d                                                                        \n",
      "────────────(Expectation(records_lost|action.Misuse,action.Environmental,actio\n",
      "daction.Bugs                                                                  \n",
      "\n",
      "                                       \n",
      "n.Physical,action.Social,action.Error))\n",
      "                                       \n",
      "Estimand assumption 1, Unconfoundedness: If U→action.Bugs and U→records_lost then P(records_lost|action.Bugs,action.Misuse,action.Environmental,action.Physical,action.Social,action.Error,U) = P(records_lost|action.Bugs,action.Misuse,action.Environmental,action.Physical,action.Social,action.Error)\n",
      "### Estimand : 2\n",
      "Estimand name: iv\n",
      "Estimand expression:\n",
      "Expectation(Derivative(records_lost, action.Hacking)/Derivative(action.Bugs, a\n",
      "ction.Hacking))\n",
      "Estimand assumption 1, As-if-random: If U→→records_lost then ¬(U →→action.Hacking,action.Malware)\n",
      "Estimand assumption 2, Exclusion: If we remove {action.Hacking,action.Malware}→action.Bugs, then ¬(action.Hacking,action.Malware→records_lost)\n",
      "\n"
     ]
    }
   ],
   "source": [
    "identified_estimand = model.identify_effect(proceed_when_unidentifiable=True)\n",
    "print(identified_estimand)"
   ]
  },
  {
   "cell_type": "code",
   "execution_count": 27,
   "metadata": {},
   "outputs": [
    {
     "name": "stderr",
     "output_type": "stream",
     "text": [
      "INFO:dowhy.causal_estimator:INFO: Using Linear Regression Estimator\n",
      "INFO:dowhy.causal_estimator:b: records_lost~action.Bugs+action.Misuse+action.Environmental+action.Physical+action.Social+action.Error\n"
     ]
    },
    {
     "name": "stdout",
     "output_type": "stream",
     "text": [
      "Causal Estimate is 23069960.93087865\n"
     ]
    }
   ],
   "source": [
    "estimate = model.estimate_effect(identified_estimand,\n",
    "        method_name=\"backdoor.linear_regression\" )\n",
    "print(\"Causal Estimate is \" + str(estimate.value))"
   ]
  },
  {
   "cell_type": "code",
   "execution_count": 28,
   "metadata": {},
   "outputs": [
    {
     "name": "stderr",
     "output_type": "stream",
     "text": [
      "INFO:dowhy.causal_identifier:Common causes of treatment and outcome:['action.Misuse', 'U', 'action.Environmental', 'action.Physical', 'action.Social', 'action.Error']\n",
      "WARNING:dowhy.causal_identifier:There are unobserved common causes. Causal effect cannot be identified.\n",
      "INFO:dowhy.causal_identifier:Continuing by ignoring these unobserved confounders because proceed_when_unidentifiable flag is True.\n",
      "INFO:dowhy.causal_identifier:Instrumental variables for treatment and outcome:['action.Hacking', 'action.Malware']\n"
     ]
    },
    {
     "name": "stdout",
     "output_type": "stream",
     "text": [
      "Estimand type: ate\n",
      "### Estimand : 1\n",
      "Estimand name: backdoor\n",
      "Estimand expression:\n",
      "     d                                                                        \n",
      "────────────(Expectation(records_lost|action.Misuse,action.Environmental,actio\n",
      "daction.Bugs                                                                  \n",
      "\n",
      "                                       \n",
      "n.Physical,action.Social,action.Error))\n",
      "                                       \n",
      "Estimand assumption 1, Unconfoundedness: If U→action.Bugs and U→records_lost then P(records_lost|action.Bugs,action.Misuse,action.Environmental,action.Physical,action.Social,action.Error,U) = P(records_lost|action.Bugs,action.Misuse,action.Environmental,action.Physical,action.Social,action.Error)\n",
      "### Estimand : 2\n",
      "Estimand name: iv\n",
      "Estimand expression:\n",
      "Expectation(Derivative(records_lost, action.Hacking)/Derivative(action.Bugs, a\n",
      "ction.Hacking))\n",
      "Estimand assumption 1, As-if-random: If U→→records_lost then ¬(U →→action.Hacking,action.Malware)\n",
      "Estimand assumption 2, Exclusion: If we remove {action.Hacking,action.Malware}→action.Bugs, then ¬(action.Hacking,action.Malware→records_lost)\n",
      "\n"
     ]
    }
   ],
   "source": [
    "identified_estimand = model.identify_effect(proceed_when_unidentifiable=True)\n",
    "print(identified_estimand)"
   ]
  },
  {
   "cell_type": "markdown",
   "metadata": {},
   "source": [
    "## Method 1: Stratification"
   ]
  },
  {
   "cell_type": "code",
   "execution_count": 29,
   "metadata": {},
   "outputs": [
    {
     "name": "stderr",
     "output_type": "stream",
     "text": [
      "INFO:dowhy.causal_estimator:INFO: Using Propensity Score Stratification Estimator\n",
      "INFO:dowhy.causal_estimator:b: records_lost~action.Bugs+action.Misuse+action.Environmental+action.Physical+action.Social+action.Error\n",
      "INFO:dowhy.causal_estimator:INFO: Using Propensity Score Stratification Estimator\n",
      "INFO:dowhy.causal_estimator:b: records_lost~action.Bugs+action.Misuse+action.Environmental+action.Physical+action.Social+action.Error+w_random\n"
     ]
    },
    {
     "name": "stdout",
     "output_type": "stream",
     "text": [
      "*** Causal Estimate ***\n",
      "\n",
      "## Target estimand\n",
      "Estimand type: ate\n",
      "### Estimand : 1\n",
      "Estimand name: backdoor\n",
      "Estimand expression:\n",
      "     d                                                                        \n",
      "────────────(Expectation(records_lost|action.Misuse,action.Environmental,actio\n",
      "daction.Bugs                                                                  \n",
      "\n",
      "                                       \n",
      "n.Physical,action.Social,action.Error))\n",
      "                                       \n",
      "Estimand assumption 1, Unconfoundedness: If U→action.Bugs and U→records_lost then P(records_lost|action.Bugs,action.Misuse,action.Environmental,action.Physical,action.Social,action.Error,U) = P(records_lost|action.Bugs,action.Misuse,action.Environmental,action.Physical,action.Social,action.Error)\n",
      "### Estimand : 2\n",
      "Estimand name: iv\n",
      "Estimand expression:\n",
      "Expectation(Derivative(records_lost, action.Hacking)/Derivative(action.Bugs, a\n",
      "ction.Hacking))\n",
      "Estimand assumption 1, As-if-random: If U→→records_lost then ¬(U →→action.Hacking,action.Malware)\n",
      "Estimand assumption 2, Exclusion: If we remove {action.Hacking,action.Malware}→action.Bugs, then ¬(action.Hacking,action.Malware→records_lost)\n",
      "\n",
      "## Realized estimand\n",
      "b: records_lost~action.Bugs+action.Misuse+action.Environmental+action.Physical+action.Social+action.Error\n",
      "## Estimate\n",
      "Value: 18344559.74470463\n",
      "\n",
      "Causal Estimate is 18344559.74470463\n"
     ]
    },
    {
     "name": "stderr",
     "output_type": "stream",
     "text": [
      "INFO:dowhy.causal_estimator:INFO: Using Linear Regression Estimator\n",
      "INFO:dowhy.causal_estimator:b: records_lost~placebo+action.Misuse+action.Environmental+action.Physical+action.Social+action.Error\n",
      "INFO:dowhy.causal_estimator:INFO: Using Linear Regression Estimator\n",
      "INFO:dowhy.causal_estimator:b: records_lost~action.Bugs+action.Misuse+action.Environmental+action.Physical+action.Social+action.Error\n"
     ]
    },
    {
     "name": "stdout",
     "output_type": "stream",
     "text": [
      "Refute: Use a subset of data\n",
      "Estimated effect:(23069960.93087865,)\n",
      "New effect:(24619699.05595945,)\n",
      "\n",
      "Refute: Add a Random Common Cause\n",
      "Estimated effect:(18344559.74470463,)\n",
      "New effect:(26770070.282605026,)\n",
      "\n",
      "Refute: Use a subset of data\n",
      "Estimated effect:(23069960.93087865,)\n",
      "New effect:(24619699.05595945,)\n",
      "\n"
     ]
    }
   ],
   "source": [
    "causal_estimate = model.estimate_effect(identified_estimand,\n",
    "        method_name=\"backdoor.propensity_score_stratification\")\n",
    "print(causal_estimate)\n",
    "print(\"Causal Estimate is \" + str(causal_estimate.value))\n",
    "res_random = model.refute_estimate(identified_estimand, causal_estimate, method_name=\"random_common_cause\",test_significance=True)\n",
    "\n",
    "res_placebo=model.refute_estimate(identified_estimand, estimate,\n",
    "        method_name=\"placebo_treatment_refuter\", placebo_type=\"permute\")\n",
    "\n",
    "res_subset=model.refute_estimate(identified_estimand, estimate,\n",
    "        method_name=\"data_subset_refuter\", subset_fraction=0.9)\n",
    "\n",
    "print(res_subset)\n",
    "print(res_random)\n",
    "print(res_subset)\n",
    "# model.refute_estimate(identified_estimand, causal_estimate)\n",
    "# res_random  = model.refute_estimate(identified_estimand, causal_estimate, method_name=\"random_common_cause\")"
   ]
  },
  {
   "cell_type": "markdown",
   "metadata": {},
   "source": [
    "## Method 2: Matching"
   ]
  },
  {
   "cell_type": "code",
   "execution_count": 32,
   "metadata": {},
   "outputs": [],
   "source": [
    "causal_estimate_match = model.estimate_effect(identified_estimand,\n",
    "        method_name=\"backdoor.propensity_score_matching\")\n",
    "print(causal_estimate_match)\n",
    "print(\"Causal Estimate is \" + str(causal_estimate_match.value))"
   ]
  },
  {
   "cell_type": "code",
   "execution_count": 32,
   "metadata": {},
   "outputs": [
    {
     "name": "stderr",
     "output_type": "stream",
     "text": [
      "INFO:dowhy.causal_estimator:INFO: Using Propensity Score Matching Estimator\n",
      "INFO:dowhy.causal_estimator:b: records_lost~action.Bugs+action.Misuse+action.Environmental+action.Physical+action.Social+action.Error\n",
      "/home/jakes/anaconda3/envs/cb/lib/python3.8/site-packages/dowhy/causal_estimators/propensity_score_matching_estimator.py:51: FutureWarning: `item` has been deprecated and will be removed in a future version\n",
      "  control_outcome = control.iloc[indices[i]][self._outcome_name].item()\n",
      "INFO:dowhy.causal_estimator:INFO: Using Propensity Score Stratification Estimator\n",
      "INFO:dowhy.causal_estimator:b: records_lost~action.Bugs+action.Misuse+action.Environmental+action.Physical+action.Social+action.Error+w_random\n",
      "INFO:dowhy.causal_estimator:INFO: Using Linear Regression Estimator\n",
      "INFO:dowhy.causal_estimator:b: records_lost~placebo+action.Misuse+action.Environmental+action.Physical+action.Social+action.Error\n",
      "INFO:dowhy.causal_estimator:INFO: Using Linear Regression Estimator\n",
      "INFO:dowhy.causal_estimator:b: records_lost~action.Bugs+action.Misuse+action.Environmental+action.Physical+action.Social+action.Error\n"
     ]
    },
    {
     "name": "stdout",
     "output_type": "stream",
     "text": [
      "*** Causal Estimate ***\n",
      "\n",
      "## Target estimand\n",
      "Estimand type: ate\n",
      "### Estimand : 1\n",
      "Estimand name: backdoor\n",
      "Estimand expression:\n",
      "     d                                                                        \n",
      "────────────(Expectation(records_lost|action.Misuse,action.Environmental,actio\n",
      "daction.Bugs                                                                  \n",
      "\n",
      "                                       \n",
      "n.Physical,action.Social,action.Error))\n",
      "                                       \n",
      "Estimand assumption 1, Unconfoundedness: If U→action.Bugs and U→records_lost then P(records_lost|action.Bugs,action.Misuse,action.Environmental,action.Physical,action.Social,action.Error,U) = P(records_lost|action.Bugs,action.Misuse,action.Environmental,action.Physical,action.Social,action.Error)\n",
      "### Estimand : 2\n",
      "Estimand name: iv\n",
      "Estimand expression:\n",
      "Expectation(Derivative(records_lost, action.Hacking)/Derivative(action.Bugs, a\n",
      "ction.Hacking))\n",
      "Estimand assumption 1, As-if-random: If U→→records_lost then ¬(U →→action.Hacking,action.Malware)\n",
      "Estimand assumption 2, Exclusion: If we remove {action.Hacking,action.Malware}→action.Bugs, then ¬(action.Hacking,action.Malware→records_lost)\n",
      "\n",
      "## Realized estimand\n",
      "b: records_lost~action.Bugs+action.Misuse+action.Environmental+action.Physical+action.Social+action.Error\n",
      "## Estimate\n",
      "Value: 20120320.696465697\n",
      "\n",
      "Causal Estimate is 20120320.696465697\n",
      "Refute: Use a subset of data\n",
      "Estimated effect:(23069960.93087865,)\n",
      "New effect:(24052027.094145883,)\n",
      "\n",
      "Refute: Add a Random Common Cause\n",
      "Estimated effect:(18344559.74470463,)\n",
      "New effect:(21360565.282039296,)\n",
      "\n",
      "Refute: Use a subset of data\n",
      "Estimated effect:(23069960.93087865,)\n",
      "New effect:(24052027.094145883,)\n",
      "\n"
     ]
    }
   ],
   "source": [
    "res_random = model.refute_estimate(identified_estimand, causal_estimate, method_name=\"random_common_cause\",test_significance=True)\n",
    "\n",
    "res_placebo=model.refute_estimate(identified_estimand, estimate,\n",
    "        method_name=\"placebo_treatment_refuter\", placebo_type=\"permute\")\n",
    "\n",
    "res_subset=model.refute_estimate(identified_estimand, estimate,\n",
    "        method_name=\"data_subset_refuter\", subset_fraction=0.9)\n",
    "\n",
    "print(res_subset)\n",
    "print(res_random)\n",
    "print(res_subset)"
   ]
  },
  {
   "cell_type": "code",
   "execution_count": null,
   "metadata": {},
   "outputs": [],
   "source": []
  },
  {
   "cell_type": "code",
   "execution_count": null,
   "metadata": {},
   "outputs": [],
   "source": []
  },
  {
   "cell_type": "code",
   "execution_count": null,
   "metadata": {},
   "outputs": [],
   "source": []
  }
 ],
 "metadata": {
  "kernelspec": {
   "display_name": "Python 3",
   "language": "python",
   "name": "python3"
  },
  "language_info": {
   "codemirror_mode": {
    "name": "ipython",
    "version": 3
   },
   "file_extension": ".py",
   "mimetype": "text/x-python",
   "name": "python",
   "nbconvert_exporter": "python",
   "pygments_lexer": "ipython3",
   "version": "3.8.1"
  }
 },
 "nbformat": 4,
 "nbformat_minor": 4
}
